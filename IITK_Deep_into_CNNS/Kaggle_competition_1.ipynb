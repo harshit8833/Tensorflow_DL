{
  "nbformat": 4,
  "nbformat_minor": 0,
  "metadata": {
    "colab": {
      "name": "Kaggle_competition_1.ipynb",
      "provenance": [],
      "collapsed_sections": [
        "UWXouFCzDmlY",
        "M2kRfGJXD1tQ",
        "6FlJMmp5cWKY"
      ],
      "toc_visible": true
    },
    "kernelspec": {
      "name": "python3",
      "display_name": "Python 3"
    },
    "language_info": {
      "name": "python"
    }
  },
  "cells": [
    {
      "cell_type": "markdown",
      "metadata": {
        "id": "sqEiSuhGy4RC"
      },
      "source": [
        "# Kaggle Link - https://www.kaggle.com/c/tabular-playground-series-jun-2021"
      ]
    },
    {
      "cell_type": "code",
      "metadata": {
        "colab": {
          "base_uri": "https://localhost:8080/"
        },
        "id": "myGiJtuMhrf2",
        "outputId": "25b5b6b0-44fc-46f4-d212-ea0f2d5db311"
      },
      "source": [
        "!pip install kaggle"
      ],
      "execution_count": null,
      "outputs": [
        {
          "output_type": "stream",
          "text": [
            "Requirement already satisfied: kaggle in /usr/local/lib/python3.7/dist-packages (1.5.12)\n",
            "Requirement already satisfied: urllib3 in /usr/local/lib/python3.7/dist-packages (from kaggle) (1.24.3)\n",
            "Requirement already satisfied: certifi in /usr/local/lib/python3.7/dist-packages (from kaggle) (2020.12.5)\n",
            "Requirement already satisfied: tqdm in /usr/local/lib/python3.7/dist-packages (from kaggle) (4.41.1)\n",
            "Requirement already satisfied: requests in /usr/local/lib/python3.7/dist-packages (from kaggle) (2.23.0)\n",
            "Requirement already satisfied: python-slugify in /usr/local/lib/python3.7/dist-packages (from kaggle) (5.0.2)\n",
            "Requirement already satisfied: six>=1.10 in /usr/local/lib/python3.7/dist-packages (from kaggle) (1.15.0)\n",
            "Requirement already satisfied: python-dateutil in /usr/local/lib/python3.7/dist-packages (from kaggle) (2.8.1)\n",
            "Requirement already satisfied: idna<3,>=2.5 in /usr/local/lib/python3.7/dist-packages (from requests->kaggle) (2.10)\n",
            "Requirement already satisfied: chardet<4,>=3.0.2 in /usr/local/lib/python3.7/dist-packages (from requests->kaggle) (3.0.4)\n",
            "Requirement already satisfied: text-unidecode>=1.3 in /usr/local/lib/python3.7/dist-packages (from python-slugify->kaggle) (1.3)\n"
          ],
          "name": "stdout"
        }
      ]
    },
    {
      "cell_type": "code",
      "metadata": {
        "collapsed": true,
        "id": "xFum-iDXh4E8"
      },
      "source": [
        "from google.colab import files\n",
        "files.upload()"
      ],
      "execution_count": null,
      "outputs": []
    },
    {
      "cell_type": "code",
      "metadata": {
        "id": "STbTTyddiGg2"
      },
      "source": [
        "!mkdir -p ~/.kaggle\n",
        "!cp kaggle.json ~/.kaggle/\n",
        "\n",
        "# change the permission\n",
        "!chmod 600 ~/.kaggle/kaggle.json"
      ],
      "execution_count": null,
      "outputs": []
    },
    {
      "cell_type": "code",
      "metadata": {
        "id": "Thbf411O8seW"
      },
      "source": [
        "import itertools\n",
        "from sklearn.metrics import confusion_matrix\n",
        "import numpy as np\n",
        "import pandas as pd\n",
        "\n",
        "\n",
        "# Our function needs a different name to sklearn's plot_confusion_matrix\n",
        "def make_confusion_matrix(y_true, y_pred, classes=None, figsize=(10, 10), text_size=15): \n",
        "  \"\"\"Makes a labelled confusion matrix comparing predictions and ground truth labels.\n",
        "\n",
        "  If classes is passed, confusion matrix will be labelled, if not, integer class values\n",
        "  will be used.\n",
        "\n",
        "  Args:\n",
        "    y_true: Array of truth labels (must be same shape as y_pred).\n",
        "    y_pred: Array of predicted labels (must be same shape as y_true).\n",
        "    classes: Array of class labels (e.g. string form). If `None`, integer labels are used.\n",
        "    figsize: Size of output figure (default=(10, 10)).\n",
        "    text_size: Size of output figure text (default=15).\n",
        "  \n",
        "  Returns:\n",
        "    A labelled confusion matrix plot comparing y_true and y_pred.\n",
        "\n",
        "  Example usage:\n",
        "    make_confusion_matrix(y_true=test_labels, # ground truth test labels\n",
        "                          y_pred=y_preds, # predicted labels\n",
        "                          classes=class_names, # array of class label names\n",
        "                          figsize=(15, 15),\n",
        "                          text_size=10)\n",
        "  \"\"\"  \n",
        "  # Create the confustion matrix\n",
        "  cm = confusion_matrix(y_true, y_pred)\n",
        "  cm_norm = cm.astype(\"float\") / cm.sum(axis=1)[:, np.newaxis] # normalize it\n",
        "  n_classes = cm.shape[0] # find the number of classes we're dealing with\n",
        "\n",
        "  # Plot the figure and make it pretty\n",
        "  fig, ax = plt.subplots(figsize=figsize)\n",
        "  cax = ax.matshow(cm, cmap=plt.cm.Blues) # colors will represent how 'correct' a class is, darker == better\n",
        "  fig.colorbar(cax)\n",
        "\n",
        "  # Are there a list of classes?\n",
        "  if classes:\n",
        "    labels = classes\n",
        "  else:\n",
        "    labels = np.arange(cm.shape[0])\n",
        "  \n",
        "  # Label the axes\n",
        "  ax.set(title=\"Confusion Matrix\",\n",
        "         xlabel=\"Predicted label\",\n",
        "         ylabel=\"True label\",\n",
        "         xticks=np.arange(n_classes), # create enough axis slots for each class\n",
        "         yticks=np.arange(n_classes), \n",
        "         xticklabels=labels, # axes will labeled with class names (if they exist) or ints\n",
        "         yticklabels=labels)\n",
        "  \n",
        "  # Make x-axis labels appear on bottom\n",
        "  ax.xaxis.set_label_position(\"bottom\")\n",
        "  ax.xaxis.tick_bottom()\n",
        "\n",
        "  # Set the threshold for different colors\n",
        "  threshold = (cm.max() + cm.min()) / 2.\n",
        "\n",
        "  # Plot the text on each cell\n",
        "  for i, j in itertools.product(range(cm.shape[0]), range(cm.shape[1])):\n",
        "    plt.text(j, i, f\"{cm[i, j]} ({cm_norm[i, j]*100:.1f}%)\",\n",
        "             horizontalalignment=\"center\",\n",
        "             color=\"white\" if cm[i, j] > threshold else \"black\",\n",
        "              size=text_size)"
      ],
      "execution_count": null,
      "outputs": []
    },
    {
      "cell_type": "code",
      "metadata": {
        "colab": {
          "base_uri": "https://localhost:8080/"
        },
        "id": "5VW8MMjfhsI0",
        "outputId": "98789f6b-4401-4973-f2eb-71a3a0183431"
      },
      "source": [
        "!kaggle competitions download -c tabular-playground-series-jun-2021"
      ],
      "execution_count": null,
      "outputs": [
        {
          "output_type": "stream",
          "text": [
            "Warning: Looks like you're using an outdated API Version, please consider updating (server 1.5.12 / client 1.5.4)\n",
            "Downloading sample_submission.csv.zip to /content\n",
            "  0% 0.00/264k [00:00<?, ?B/s]\n",
            "100% 264k/264k [00:00<00:00, 39.1MB/s]\n",
            "Downloading train.csv.zip to /content\n",
            " 77% 5.00M/6.49M [00:00<00:00, 36.1MB/s]\n",
            "100% 6.49M/6.49M [00:00<00:00, 41.5MB/s]\n",
            "Downloading test.csv.zip to /content\n",
            "  0% 0.00/3.14M [00:00<?, ?B/s]\n",
            "100% 3.14M/3.14M [00:00<00:00, 169MB/s]\n"
          ],
          "name": "stdout"
        }
      ]
    },
    {
      "cell_type": "code",
      "metadata": {
        "colab": {
          "base_uri": "https://localhost:8080/"
        },
        "id": "yiaxBuIJh2hm",
        "outputId": "95343bb1-de11-413a-a8c4-727481636324"
      },
      "source": [
        "!ls"
      ],
      "execution_count": null,
      "outputs": [
        {
          "output_type": "stream",
          "text": [
            "kaggle.json  sample_submission.csv.zip\ttrain.csv.zip\n",
            "sample_data  test.csv.zip\n"
          ],
          "name": "stdout"
        }
      ]
    },
    {
      "cell_type": "code",
      "metadata": {
        "colab": {
          "base_uri": "https://localhost:8080/"
        },
        "id": "8fyqJMROi4xI",
        "outputId": "f7cfff74-18f8-4141-973f-13c6143504cd"
      },
      "source": [
        "!unzip test.csv.zip"
      ],
      "execution_count": null,
      "outputs": [
        {
          "output_type": "stream",
          "text": [
            "Archive:  test.csv.zip\n",
            "  inflating: test.csv                \n"
          ],
          "name": "stdout"
        }
      ]
    },
    {
      "cell_type": "code",
      "metadata": {
        "colab": {
          "base_uri": "https://localhost:8080/"
        },
        "id": "wnsrU9QKiWdl",
        "outputId": "2288babe-a192-4130-d386-00bf557d2bd9"
      },
      "source": [
        "!unzip train.csv.zip"
      ],
      "execution_count": null,
      "outputs": [
        {
          "output_type": "stream",
          "text": [
            "Archive:  train.csv.zip\n",
            "  inflating: train.csv               \n"
          ],
          "name": "stdout"
        }
      ]
    },
    {
      "cell_type": "code",
      "metadata": {
        "colab": {
          "base_uri": "https://localhost:8080/"
        },
        "id": "XhVDohrbisO6",
        "outputId": "dadbcb66-63e5-490f-bf56-d6acffa00d02"
      },
      "source": [
        "!unzip sample_submission.csv.zip"
      ],
      "execution_count": null,
      "outputs": [
        {
          "output_type": "stream",
          "text": [
            "Archive:  sample_submission.csv.zip\n",
            "  inflating: sample_submission.csv   \n"
          ],
          "name": "stdout"
        }
      ]
    },
    {
      "cell_type": "code",
      "metadata": {
        "colab": {
          "base_uri": "https://localhost:8080/"
        },
        "id": "_CswEgbuili7",
        "outputId": "47ca6c74-cadf-4383-c356-23a21ca95846"
      },
      "source": [
        "!ls"
      ],
      "execution_count": null,
      "outputs": [
        {
          "output_type": "stream",
          "text": [
            "kaggle.json  sample_submission.csv\ttest.csv      train.csv\n",
            "sample_data  sample_submission.csv.zip\ttest.csv.zip  train.csv.zip\n"
          ],
          "name": "stdout"
        }
      ]
    },
    {
      "cell_type": "code",
      "metadata": {
        "id": "55B2aOXXi_0E"
      },
      "source": [
        "\n",
        "!rm -rf kaggle.json sample_data sample_submission.csv.zip train.csv.zip test.csv.zip"
      ],
      "execution_count": null,
      "outputs": []
    },
    {
      "cell_type": "code",
      "metadata": {
        "colab": {
          "base_uri": "https://localhost:8080/"
        },
        "id": "_T6EnEFwjMz0",
        "outputId": "64f71854-4819-445c-e730-47ac386c3ad6"
      },
      "source": [
        "!ls"
      ],
      "execution_count": null,
      "outputs": [
        {
          "output_type": "stream",
          "text": [
            "sample_submission.csv  test.csv  train.csv\n"
          ],
          "name": "stdout"
        }
      ]
    },
    {
      "cell_type": "markdown",
      "metadata": {
        "id": "pGkAnbsI-hyl"
      },
      "source": [
        "# **Preprocessing---------------**"
      ]
    },
    {
      "cell_type": "code",
      "metadata": {
        "colab": {
          "base_uri": "https://localhost:8080/",
          "height": 195
        },
        "id": "wTOUvfdmjN18",
        "outputId": "cb4adde1-3cd0-4c04-afb7-0f7d9fbe014a"
      },
      "source": [
        "import pandas as pd\n",
        "ss = pd.read_csv(\"sample_submission.csv\")\n",
        "ss.head(5)"
      ],
      "execution_count": null,
      "outputs": [
        {
          "output_type": "execute_result",
          "data": {
            "text/html": [
              "<div>\n",
              "<style scoped>\n",
              "    .dataframe tbody tr th:only-of-type {\n",
              "        vertical-align: middle;\n",
              "    }\n",
              "\n",
              "    .dataframe tbody tr th {\n",
              "        vertical-align: top;\n",
              "    }\n",
              "\n",
              "    .dataframe thead th {\n",
              "        text-align: right;\n",
              "    }\n",
              "</style>\n",
              "<table border=\"1\" class=\"dataframe\">\n",
              "  <thead>\n",
              "    <tr style=\"text-align: right;\">\n",
              "      <th></th>\n",
              "      <th>id</th>\n",
              "      <th>Class_1</th>\n",
              "      <th>Class_2</th>\n",
              "      <th>Class_3</th>\n",
              "      <th>Class_4</th>\n",
              "      <th>Class_5</th>\n",
              "      <th>Class_6</th>\n",
              "      <th>Class_7</th>\n",
              "      <th>Class_8</th>\n",
              "      <th>Class_9</th>\n",
              "    </tr>\n",
              "  </thead>\n",
              "  <tbody>\n",
              "    <tr>\n",
              "      <th>0</th>\n",
              "      <td>200000</td>\n",
              "      <td>0.1111</td>\n",
              "      <td>0.1111</td>\n",
              "      <td>0.1111</td>\n",
              "      <td>0.1111</td>\n",
              "      <td>0.1111</td>\n",
              "      <td>0.1111</td>\n",
              "      <td>0.1111</td>\n",
              "      <td>0.1111</td>\n",
              "      <td>0.1111</td>\n",
              "    </tr>\n",
              "    <tr>\n",
              "      <th>1</th>\n",
              "      <td>200001</td>\n",
              "      <td>0.1111</td>\n",
              "      <td>0.1111</td>\n",
              "      <td>0.1111</td>\n",
              "      <td>0.1111</td>\n",
              "      <td>0.1111</td>\n",
              "      <td>0.1111</td>\n",
              "      <td>0.1111</td>\n",
              "      <td>0.1111</td>\n",
              "      <td>0.1111</td>\n",
              "    </tr>\n",
              "    <tr>\n",
              "      <th>2</th>\n",
              "      <td>200002</td>\n",
              "      <td>0.1111</td>\n",
              "      <td>0.1111</td>\n",
              "      <td>0.1111</td>\n",
              "      <td>0.1111</td>\n",
              "      <td>0.1111</td>\n",
              "      <td>0.1111</td>\n",
              "      <td>0.1111</td>\n",
              "      <td>0.1111</td>\n",
              "      <td>0.1111</td>\n",
              "    </tr>\n",
              "    <tr>\n",
              "      <th>3</th>\n",
              "      <td>200003</td>\n",
              "      <td>0.1111</td>\n",
              "      <td>0.1111</td>\n",
              "      <td>0.1111</td>\n",
              "      <td>0.1111</td>\n",
              "      <td>0.1111</td>\n",
              "      <td>0.1111</td>\n",
              "      <td>0.1111</td>\n",
              "      <td>0.1111</td>\n",
              "      <td>0.1111</td>\n",
              "    </tr>\n",
              "    <tr>\n",
              "      <th>4</th>\n",
              "      <td>200004</td>\n",
              "      <td>0.1111</td>\n",
              "      <td>0.1111</td>\n",
              "      <td>0.1111</td>\n",
              "      <td>0.1111</td>\n",
              "      <td>0.1111</td>\n",
              "      <td>0.1111</td>\n",
              "      <td>0.1111</td>\n",
              "      <td>0.1111</td>\n",
              "      <td>0.1111</td>\n",
              "    </tr>\n",
              "  </tbody>\n",
              "</table>\n",
              "</div>"
            ],
            "text/plain": [
              "       id  Class_1  Class_2  Class_3  ...  Class_6  Class_7  Class_8  Class_9\n",
              "0  200000   0.1111   0.1111   0.1111  ...   0.1111   0.1111   0.1111   0.1111\n",
              "1  200001   0.1111   0.1111   0.1111  ...   0.1111   0.1111   0.1111   0.1111\n",
              "2  200002   0.1111   0.1111   0.1111  ...   0.1111   0.1111   0.1111   0.1111\n",
              "3  200003   0.1111   0.1111   0.1111  ...   0.1111   0.1111   0.1111   0.1111\n",
              "4  200004   0.1111   0.1111   0.1111  ...   0.1111   0.1111   0.1111   0.1111\n",
              "\n",
              "[5 rows x 10 columns]"
            ]
          },
          "metadata": {
            "tags": []
          },
          "execution_count": 13
        }
      ]
    },
    {
      "cell_type": "code",
      "metadata": {
        "colab": {
          "base_uri": "https://localhost:8080/",
          "height": 215
        },
        "id": "jb9hxB0hjYhc",
        "outputId": "af28de72-85af-4acd-b8f8-234a942ad2e0"
      },
      "source": [
        "import pandas as pd\n",
        "df_train = pd.read_csv(\"train.csv\")\n",
        "df_train.head(5)"
      ],
      "execution_count": null,
      "outputs": [
        {
          "output_type": "execute_result",
          "data": {
            "text/html": [
              "<div>\n",
              "<style scoped>\n",
              "    .dataframe tbody tr th:only-of-type {\n",
              "        vertical-align: middle;\n",
              "    }\n",
              "\n",
              "    .dataframe tbody tr th {\n",
              "        vertical-align: top;\n",
              "    }\n",
              "\n",
              "    .dataframe thead th {\n",
              "        text-align: right;\n",
              "    }\n",
              "</style>\n",
              "<table border=\"1\" class=\"dataframe\">\n",
              "  <thead>\n",
              "    <tr style=\"text-align: right;\">\n",
              "      <th></th>\n",
              "      <th>id</th>\n",
              "      <th>feature_0</th>\n",
              "      <th>feature_1</th>\n",
              "      <th>feature_2</th>\n",
              "      <th>feature_3</th>\n",
              "      <th>feature_4</th>\n",
              "      <th>feature_5</th>\n",
              "      <th>feature_6</th>\n",
              "      <th>feature_7</th>\n",
              "      <th>feature_8</th>\n",
              "      <th>feature_9</th>\n",
              "      <th>feature_10</th>\n",
              "      <th>feature_11</th>\n",
              "      <th>feature_12</th>\n",
              "      <th>feature_13</th>\n",
              "      <th>feature_14</th>\n",
              "      <th>feature_15</th>\n",
              "      <th>feature_16</th>\n",
              "      <th>feature_17</th>\n",
              "      <th>feature_18</th>\n",
              "      <th>feature_19</th>\n",
              "      <th>feature_20</th>\n",
              "      <th>feature_21</th>\n",
              "      <th>feature_22</th>\n",
              "      <th>feature_23</th>\n",
              "      <th>feature_24</th>\n",
              "      <th>feature_25</th>\n",
              "      <th>feature_26</th>\n",
              "      <th>feature_27</th>\n",
              "      <th>feature_28</th>\n",
              "      <th>feature_29</th>\n",
              "      <th>feature_30</th>\n",
              "      <th>feature_31</th>\n",
              "      <th>feature_32</th>\n",
              "      <th>feature_33</th>\n",
              "      <th>feature_34</th>\n",
              "      <th>feature_35</th>\n",
              "      <th>feature_36</th>\n",
              "      <th>feature_37</th>\n",
              "      <th>feature_38</th>\n",
              "      <th>feature_39</th>\n",
              "      <th>feature_40</th>\n",
              "      <th>feature_41</th>\n",
              "      <th>feature_42</th>\n",
              "      <th>feature_43</th>\n",
              "      <th>feature_44</th>\n",
              "      <th>feature_45</th>\n",
              "      <th>feature_46</th>\n",
              "      <th>feature_47</th>\n",
              "      <th>feature_48</th>\n",
              "      <th>feature_49</th>\n",
              "      <th>feature_50</th>\n",
              "      <th>feature_51</th>\n",
              "      <th>feature_52</th>\n",
              "      <th>feature_53</th>\n",
              "      <th>feature_54</th>\n",
              "      <th>feature_55</th>\n",
              "      <th>feature_56</th>\n",
              "      <th>feature_57</th>\n",
              "      <th>feature_58</th>\n",
              "      <th>feature_59</th>\n",
              "      <th>feature_60</th>\n",
              "      <th>feature_61</th>\n",
              "      <th>feature_62</th>\n",
              "      <th>feature_63</th>\n",
              "      <th>feature_64</th>\n",
              "      <th>feature_65</th>\n",
              "      <th>feature_66</th>\n",
              "      <th>feature_67</th>\n",
              "      <th>feature_68</th>\n",
              "      <th>feature_69</th>\n",
              "      <th>feature_70</th>\n",
              "      <th>feature_71</th>\n",
              "      <th>feature_72</th>\n",
              "      <th>feature_73</th>\n",
              "      <th>feature_74</th>\n",
              "      <th>target</th>\n",
              "    </tr>\n",
              "  </thead>\n",
              "  <tbody>\n",
              "    <tr>\n",
              "      <th>0</th>\n",
              "      <td>0</td>\n",
              "      <td>0</td>\n",
              "      <td>0</td>\n",
              "      <td>6</td>\n",
              "      <td>1</td>\n",
              "      <td>0</td>\n",
              "      <td>0</td>\n",
              "      <td>0</td>\n",
              "      <td>0</td>\n",
              "      <td>7</td>\n",
              "      <td>0</td>\n",
              "      <td>0</td>\n",
              "      <td>0</td>\n",
              "      <td>3</td>\n",
              "      <td>0</td>\n",
              "      <td>1</td>\n",
              "      <td>0</td>\n",
              "      <td>0</td>\n",
              "      <td>3</td>\n",
              "      <td>3</td>\n",
              "      <td>1</td>\n",
              "      <td>0</td>\n",
              "      <td>2</td>\n",
              "      <td>0</td>\n",
              "      <td>0</td>\n",
              "      <td>0</td>\n",
              "      <td>0</td>\n",
              "      <td>0</td>\n",
              "      <td>0</td>\n",
              "      <td>1</td>\n",
              "      <td>0</td>\n",
              "      <td>0</td>\n",
              "      <td>1</td>\n",
              "      <td>0</td>\n",
              "      <td>0</td>\n",
              "      <td>0</td>\n",
              "      <td>0</td>\n",
              "      <td>0</td>\n",
              "      <td>11</td>\n",
              "      <td>0</td>\n",
              "      <td>0</td>\n",
              "      <td>0</td>\n",
              "      <td>0</td>\n",
              "      <td>0</td>\n",
              "      <td>9</td>\n",
              "      <td>0</td>\n",
              "      <td>0</td>\n",
              "      <td>0</td>\n",
              "      <td>0</td>\n",
              "      <td>0</td>\n",
              "      <td>0</td>\n",
              "      <td>3</td>\n",
              "      <td>0</td>\n",
              "      <td>1</td>\n",
              "      <td>3</td>\n",
              "      <td>0</td>\n",
              "      <td>0</td>\n",
              "      <td>0</td>\n",
              "      <td>0</td>\n",
              "      <td>0</td>\n",
              "      <td>0</td>\n",
              "      <td>0</td>\n",
              "      <td>1</td>\n",
              "      <td>1</td>\n",
              "      <td>0</td>\n",
              "      <td>0</td>\n",
              "      <td>3</td>\n",
              "      <td>0</td>\n",
              "      <td>0</td>\n",
              "      <td>0</td>\n",
              "      <td>0</td>\n",
              "      <td>0</td>\n",
              "      <td>0</td>\n",
              "      <td>2</td>\n",
              "      <td>0</td>\n",
              "      <td>0</td>\n",
              "      <td>Class_6</td>\n",
              "    </tr>\n",
              "    <tr>\n",
              "      <th>1</th>\n",
              "      <td>1</td>\n",
              "      <td>0</td>\n",
              "      <td>0</td>\n",
              "      <td>0</td>\n",
              "      <td>0</td>\n",
              "      <td>0</td>\n",
              "      <td>0</td>\n",
              "      <td>0</td>\n",
              "      <td>0</td>\n",
              "      <td>0</td>\n",
              "      <td>0</td>\n",
              "      <td>0</td>\n",
              "      <td>0</td>\n",
              "      <td>1</td>\n",
              "      <td>0</td>\n",
              "      <td>0</td>\n",
              "      <td>0</td>\n",
              "      <td>0</td>\n",
              "      <td>0</td>\n",
              "      <td>0</td>\n",
              "      <td>0</td>\n",
              "      <td>0</td>\n",
              "      <td>0</td>\n",
              "      <td>0</td>\n",
              "      <td>0</td>\n",
              "      <td>0</td>\n",
              "      <td>0</td>\n",
              "      <td>0</td>\n",
              "      <td>0</td>\n",
              "      <td>1</td>\n",
              "      <td>0</td>\n",
              "      <td>0</td>\n",
              "      <td>0</td>\n",
              "      <td>0</td>\n",
              "      <td>0</td>\n",
              "      <td>0</td>\n",
              "      <td>1</td>\n",
              "      <td>0</td>\n",
              "      <td>0</td>\n",
              "      <td>0</td>\n",
              "      <td>0</td>\n",
              "      <td>0</td>\n",
              "      <td>0</td>\n",
              "      <td>0</td>\n",
              "      <td>2</td>\n",
              "      <td>0</td>\n",
              "      <td>0</td>\n",
              "      <td>1</td>\n",
              "      <td>0</td>\n",
              "      <td>0</td>\n",
              "      <td>0</td>\n",
              "      <td>0</td>\n",
              "      <td>0</td>\n",
              "      <td>0</td>\n",
              "      <td>0</td>\n",
              "      <td>0</td>\n",
              "      <td>0</td>\n",
              "      <td>0</td>\n",
              "      <td>0</td>\n",
              "      <td>0</td>\n",
              "      <td>0</td>\n",
              "      <td>0</td>\n",
              "      <td>0</td>\n",
              "      <td>0</td>\n",
              "      <td>0</td>\n",
              "      <td>0</td>\n",
              "      <td>0</td>\n",
              "      <td>2</td>\n",
              "      <td>0</td>\n",
              "      <td>0</td>\n",
              "      <td>0</td>\n",
              "      <td>0</td>\n",
              "      <td>0</td>\n",
              "      <td>0</td>\n",
              "      <td>1</td>\n",
              "      <td>0</td>\n",
              "      <td>Class_6</td>\n",
              "    </tr>\n",
              "    <tr>\n",
              "      <th>2</th>\n",
              "      <td>2</td>\n",
              "      <td>0</td>\n",
              "      <td>0</td>\n",
              "      <td>0</td>\n",
              "      <td>0</td>\n",
              "      <td>0</td>\n",
              "      <td>1</td>\n",
              "      <td>0</td>\n",
              "      <td>3</td>\n",
              "      <td>0</td>\n",
              "      <td>0</td>\n",
              "      <td>1</td>\n",
              "      <td>0</td>\n",
              "      <td>0</td>\n",
              "      <td>0</td>\n",
              "      <td>0</td>\n",
              "      <td>0</td>\n",
              "      <td>0</td>\n",
              "      <td>0</td>\n",
              "      <td>0</td>\n",
              "      <td>5</td>\n",
              "      <td>4</td>\n",
              "      <td>0</td>\n",
              "      <td>0</td>\n",
              "      <td>0</td>\n",
              "      <td>0</td>\n",
              "      <td>0</td>\n",
              "      <td>0</td>\n",
              "      <td>0</td>\n",
              "      <td>0</td>\n",
              "      <td>1</td>\n",
              "      <td>0</td>\n",
              "      <td>0</td>\n",
              "      <td>0</td>\n",
              "      <td>0</td>\n",
              "      <td>2</td>\n",
              "      <td>0</td>\n",
              "      <td>0</td>\n",
              "      <td>5</td>\n",
              "      <td>0</td>\n",
              "      <td>5</td>\n",
              "      <td>0</td>\n",
              "      <td>1</td>\n",
              "      <td>0</td>\n",
              "      <td>0</td>\n",
              "      <td>0</td>\n",
              "      <td>1</td>\n",
              "      <td>0</td>\n",
              "      <td>0</td>\n",
              "      <td>1</td>\n",
              "      <td>0</td>\n",
              "      <td>7</td>\n",
              "      <td>0</td>\n",
              "      <td>1</td>\n",
              "      <td>1</td>\n",
              "      <td>0</td>\n",
              "      <td>3</td>\n",
              "      <td>4</td>\n",
              "      <td>0</td>\n",
              "      <td>0</td>\n",
              "      <td>1</td>\n",
              "      <td>3</td>\n",
              "      <td>0</td>\n",
              "      <td>2</td>\n",
              "      <td>0</td>\n",
              "      <td>0</td>\n",
              "      <td>8</td>\n",
              "      <td>0</td>\n",
              "      <td>0</td>\n",
              "      <td>0</td>\n",
              "      <td>0</td>\n",
              "      <td>1</td>\n",
              "      <td>0</td>\n",
              "      <td>0</td>\n",
              "      <td>0</td>\n",
              "      <td>0</td>\n",
              "      <td>Class_2</td>\n",
              "    </tr>\n",
              "    <tr>\n",
              "      <th>3</th>\n",
              "      <td>3</td>\n",
              "      <td>0</td>\n",
              "      <td>0</td>\n",
              "      <td>7</td>\n",
              "      <td>0</td>\n",
              "      <td>1</td>\n",
              "      <td>5</td>\n",
              "      <td>2</td>\n",
              "      <td>2</td>\n",
              "      <td>0</td>\n",
              "      <td>1</td>\n",
              "      <td>2</td>\n",
              "      <td>0</td>\n",
              "      <td>5</td>\n",
              "      <td>0</td>\n",
              "      <td>0</td>\n",
              "      <td>4</td>\n",
              "      <td>0</td>\n",
              "      <td>0</td>\n",
              "      <td>22</td>\n",
              "      <td>2</td>\n",
              "      <td>1</td>\n",
              "      <td>0</td>\n",
              "      <td>0</td>\n",
              "      <td>0</td>\n",
              "      <td>0</td>\n",
              "      <td>3</td>\n",
              "      <td>0</td>\n",
              "      <td>37</td>\n",
              "      <td>0</td>\n",
              "      <td>1</td>\n",
              "      <td>3</td>\n",
              "      <td>13</td>\n",
              "      <td>0</td>\n",
              "      <td>10</td>\n",
              "      <td>0</td>\n",
              "      <td>3</td>\n",
              "      <td>1</td>\n",
              "      <td>1</td>\n",
              "      <td>0</td>\n",
              "      <td>7</td>\n",
              "      <td>0</td>\n",
              "      <td>0</td>\n",
              "      <td>2</td>\n",
              "      <td>0</td>\n",
              "      <td>1</td>\n",
              "      <td>0</td>\n",
              "      <td>0</td>\n",
              "      <td>0</td>\n",
              "      <td>0</td>\n",
              "      <td>0</td>\n",
              "      <td>0</td>\n",
              "      <td>10</td>\n",
              "      <td>0</td>\n",
              "      <td>0</td>\n",
              "      <td>25</td>\n",
              "      <td>1</td>\n",
              "      <td>0</td>\n",
              "      <td>1</td>\n",
              "      <td>2</td>\n",
              "      <td>0</td>\n",
              "      <td>2</td>\n",
              "      <td>0</td>\n",
              "      <td>7</td>\n",
              "      <td>0</td>\n",
              "      <td>0</td>\n",
              "      <td>0</td>\n",
              "      <td>0</td>\n",
              "      <td>4</td>\n",
              "      <td>0</td>\n",
              "      <td>2</td>\n",
              "      <td>2</td>\n",
              "      <td>0</td>\n",
              "      <td>4</td>\n",
              "      <td>3</td>\n",
              "      <td>0</td>\n",
              "      <td>Class_8</td>\n",
              "    </tr>\n",
              "    <tr>\n",
              "      <th>4</th>\n",
              "      <td>4</td>\n",
              "      <td>1</td>\n",
              "      <td>0</td>\n",
              "      <td>0</td>\n",
              "      <td>0</td>\n",
              "      <td>0</td>\n",
              "      <td>0</td>\n",
              "      <td>0</td>\n",
              "      <td>0</td>\n",
              "      <td>0</td>\n",
              "      <td>0</td>\n",
              "      <td>0</td>\n",
              "      <td>0</td>\n",
              "      <td>0</td>\n",
              "      <td>0</td>\n",
              "      <td>0</td>\n",
              "      <td>0</td>\n",
              "      <td>0</td>\n",
              "      <td>0</td>\n",
              "      <td>0</td>\n",
              "      <td>0</td>\n",
              "      <td>1</td>\n",
              "      <td>0</td>\n",
              "      <td>0</td>\n",
              "      <td>0</td>\n",
              "      <td>0</td>\n",
              "      <td>1</td>\n",
              "      <td>0</td>\n",
              "      <td>0</td>\n",
              "      <td>0</td>\n",
              "      <td>0</td>\n",
              "      <td>0</td>\n",
              "      <td>0</td>\n",
              "      <td>0</td>\n",
              "      <td>0</td>\n",
              "      <td>0</td>\n",
              "      <td>0</td>\n",
              "      <td>0</td>\n",
              "      <td>2</td>\n",
              "      <td>0</td>\n",
              "      <td>5</td>\n",
              "      <td>0</td>\n",
              "      <td>0</td>\n",
              "      <td>0</td>\n",
              "      <td>0</td>\n",
              "      <td>0</td>\n",
              "      <td>0</td>\n",
              "      <td>0</td>\n",
              "      <td>0</td>\n",
              "      <td>0</td>\n",
              "      <td>0</td>\n",
              "      <td>0</td>\n",
              "      <td>0</td>\n",
              "      <td>0</td>\n",
              "      <td>0</td>\n",
              "      <td>3</td>\n",
              "      <td>0</td>\n",
              "      <td>0</td>\n",
              "      <td>1</td>\n",
              "      <td>0</td>\n",
              "      <td>0</td>\n",
              "      <td>0</td>\n",
              "      <td>0</td>\n",
              "      <td>0</td>\n",
              "      <td>0</td>\n",
              "      <td>0</td>\n",
              "      <td>0</td>\n",
              "      <td>0</td>\n",
              "      <td>0</td>\n",
              "      <td>0</td>\n",
              "      <td>0</td>\n",
              "      <td>0</td>\n",
              "      <td>0</td>\n",
              "      <td>0</td>\n",
              "      <td>0</td>\n",
              "      <td>0</td>\n",
              "      <td>Class_2</td>\n",
              "    </tr>\n",
              "  </tbody>\n",
              "</table>\n",
              "</div>"
            ],
            "text/plain": [
              "   id  feature_0  feature_1  ...  feature_73  feature_74   target\n",
              "0   0          0          0  ...           0           0  Class_6\n",
              "1   1          0          0  ...           1           0  Class_6\n",
              "2   2          0          0  ...           0           0  Class_2\n",
              "3   3          0          0  ...           3           0  Class_8\n",
              "4   4          1          0  ...           0           0  Class_2\n",
              "\n",
              "[5 rows x 77 columns]"
            ]
          },
          "metadata": {
            "tags": []
          },
          "execution_count": 14
        }
      ]
    },
    {
      "cell_type": "code",
      "metadata": {
        "colab": {
          "base_uri": "https://localhost:8080/",
          "height": 215
        },
        "id": "_FHKEtkFtQYP",
        "outputId": "881ba58b-c090-4090-98a5-d159c553a666"
      },
      "source": [
        "import pandas as pd\n",
        "df_test = pd.read_csv(\"test.csv\")\n",
        "df_test.head(5)"
      ],
      "execution_count": null,
      "outputs": [
        {
          "output_type": "execute_result",
          "data": {
            "text/html": [
              "<div>\n",
              "<style scoped>\n",
              "    .dataframe tbody tr th:only-of-type {\n",
              "        vertical-align: middle;\n",
              "    }\n",
              "\n",
              "    .dataframe tbody tr th {\n",
              "        vertical-align: top;\n",
              "    }\n",
              "\n",
              "    .dataframe thead th {\n",
              "        text-align: right;\n",
              "    }\n",
              "</style>\n",
              "<table border=\"1\" class=\"dataframe\">\n",
              "  <thead>\n",
              "    <tr style=\"text-align: right;\">\n",
              "      <th></th>\n",
              "      <th>id</th>\n",
              "      <th>feature_0</th>\n",
              "      <th>feature_1</th>\n",
              "      <th>feature_2</th>\n",
              "      <th>feature_3</th>\n",
              "      <th>feature_4</th>\n",
              "      <th>feature_5</th>\n",
              "      <th>feature_6</th>\n",
              "      <th>feature_7</th>\n",
              "      <th>feature_8</th>\n",
              "      <th>feature_9</th>\n",
              "      <th>feature_10</th>\n",
              "      <th>feature_11</th>\n",
              "      <th>feature_12</th>\n",
              "      <th>feature_13</th>\n",
              "      <th>feature_14</th>\n",
              "      <th>feature_15</th>\n",
              "      <th>feature_16</th>\n",
              "      <th>feature_17</th>\n",
              "      <th>feature_18</th>\n",
              "      <th>feature_19</th>\n",
              "      <th>feature_20</th>\n",
              "      <th>feature_21</th>\n",
              "      <th>feature_22</th>\n",
              "      <th>feature_23</th>\n",
              "      <th>feature_24</th>\n",
              "      <th>feature_25</th>\n",
              "      <th>feature_26</th>\n",
              "      <th>feature_27</th>\n",
              "      <th>feature_28</th>\n",
              "      <th>feature_29</th>\n",
              "      <th>feature_30</th>\n",
              "      <th>feature_31</th>\n",
              "      <th>feature_32</th>\n",
              "      <th>feature_33</th>\n",
              "      <th>feature_34</th>\n",
              "      <th>feature_35</th>\n",
              "      <th>feature_36</th>\n",
              "      <th>feature_37</th>\n",
              "      <th>feature_38</th>\n",
              "      <th>feature_39</th>\n",
              "      <th>feature_40</th>\n",
              "      <th>feature_41</th>\n",
              "      <th>feature_42</th>\n",
              "      <th>feature_43</th>\n",
              "      <th>feature_44</th>\n",
              "      <th>feature_45</th>\n",
              "      <th>feature_46</th>\n",
              "      <th>feature_47</th>\n",
              "      <th>feature_48</th>\n",
              "      <th>feature_49</th>\n",
              "      <th>feature_50</th>\n",
              "      <th>feature_51</th>\n",
              "      <th>feature_52</th>\n",
              "      <th>feature_53</th>\n",
              "      <th>feature_54</th>\n",
              "      <th>feature_55</th>\n",
              "      <th>feature_56</th>\n",
              "      <th>feature_57</th>\n",
              "      <th>feature_58</th>\n",
              "      <th>feature_59</th>\n",
              "      <th>feature_60</th>\n",
              "      <th>feature_61</th>\n",
              "      <th>feature_62</th>\n",
              "      <th>feature_63</th>\n",
              "      <th>feature_64</th>\n",
              "      <th>feature_65</th>\n",
              "      <th>feature_66</th>\n",
              "      <th>feature_67</th>\n",
              "      <th>feature_68</th>\n",
              "      <th>feature_69</th>\n",
              "      <th>feature_70</th>\n",
              "      <th>feature_71</th>\n",
              "      <th>feature_72</th>\n",
              "      <th>feature_73</th>\n",
              "      <th>feature_74</th>\n",
              "    </tr>\n",
              "  </thead>\n",
              "  <tbody>\n",
              "    <tr>\n",
              "      <th>0</th>\n",
              "      <td>200000</td>\n",
              "      <td>0</td>\n",
              "      <td>0</td>\n",
              "      <td>0</td>\n",
              "      <td>0</td>\n",
              "      <td>0</td>\n",
              "      <td>0</td>\n",
              "      <td>0</td>\n",
              "      <td>0</td>\n",
              "      <td>0</td>\n",
              "      <td>0</td>\n",
              "      <td>0</td>\n",
              "      <td>0</td>\n",
              "      <td>0</td>\n",
              "      <td>0</td>\n",
              "      <td>0</td>\n",
              "      <td>0</td>\n",
              "      <td>0</td>\n",
              "      <td>0</td>\n",
              "      <td>0</td>\n",
              "      <td>0</td>\n",
              "      <td>0</td>\n",
              "      <td>0</td>\n",
              "      <td>0</td>\n",
              "      <td>0</td>\n",
              "      <td>0</td>\n",
              "      <td>0</td>\n",
              "      <td>0</td>\n",
              "      <td>0</td>\n",
              "      <td>0</td>\n",
              "      <td>0</td>\n",
              "      <td>0</td>\n",
              "      <td>0</td>\n",
              "      <td>0</td>\n",
              "      <td>0</td>\n",
              "      <td>0</td>\n",
              "      <td>0</td>\n",
              "      <td>2</td>\n",
              "      <td>0</td>\n",
              "      <td>0</td>\n",
              "      <td>0</td>\n",
              "      <td>0</td>\n",
              "      <td>0</td>\n",
              "      <td>0</td>\n",
              "      <td>0</td>\n",
              "      <td>0</td>\n",
              "      <td>0</td>\n",
              "      <td>0</td>\n",
              "      <td>0</td>\n",
              "      <td>0</td>\n",
              "      <td>0</td>\n",
              "      <td>0</td>\n",
              "      <td>0</td>\n",
              "      <td>0</td>\n",
              "      <td>0</td>\n",
              "      <td>3</td>\n",
              "      <td>0</td>\n",
              "      <td>0</td>\n",
              "      <td>0</td>\n",
              "      <td>0</td>\n",
              "      <td>0</td>\n",
              "      <td>0</td>\n",
              "      <td>0</td>\n",
              "      <td>0</td>\n",
              "      <td>0</td>\n",
              "      <td>0</td>\n",
              "      <td>0</td>\n",
              "      <td>0</td>\n",
              "      <td>0</td>\n",
              "      <td>0</td>\n",
              "      <td>0</td>\n",
              "      <td>0</td>\n",
              "      <td>0</td>\n",
              "      <td>0</td>\n",
              "      <td>0</td>\n",
              "      <td>0</td>\n",
              "    </tr>\n",
              "    <tr>\n",
              "      <th>1</th>\n",
              "      <td>200001</td>\n",
              "      <td>1</td>\n",
              "      <td>2</td>\n",
              "      <td>0</td>\n",
              "      <td>0</td>\n",
              "      <td>0</td>\n",
              "      <td>0</td>\n",
              "      <td>0</td>\n",
              "      <td>0</td>\n",
              "      <td>0</td>\n",
              "      <td>0</td>\n",
              "      <td>1</td>\n",
              "      <td>0</td>\n",
              "      <td>2</td>\n",
              "      <td>2</td>\n",
              "      <td>0</td>\n",
              "      <td>0</td>\n",
              "      <td>1</td>\n",
              "      <td>0</td>\n",
              "      <td>0</td>\n",
              "      <td>0</td>\n",
              "      <td>2</td>\n",
              "      <td>0</td>\n",
              "      <td>0</td>\n",
              "      <td>1</td>\n",
              "      <td>0</td>\n",
              "      <td>3</td>\n",
              "      <td>0</td>\n",
              "      <td>1</td>\n",
              "      <td>0</td>\n",
              "      <td>0</td>\n",
              "      <td>2</td>\n",
              "      <td>0</td>\n",
              "      <td>0</td>\n",
              "      <td>1</td>\n",
              "      <td>0</td>\n",
              "      <td>0</td>\n",
              "      <td>0</td>\n",
              "      <td>0</td>\n",
              "      <td>0</td>\n",
              "      <td>0</td>\n",
              "      <td>1</td>\n",
              "      <td>0</td>\n",
              "      <td>0</td>\n",
              "      <td>0</td>\n",
              "      <td>0</td>\n",
              "      <td>1</td>\n",
              "      <td>0</td>\n",
              "      <td>0</td>\n",
              "      <td>0</td>\n",
              "      <td>0</td>\n",
              "      <td>1</td>\n",
              "      <td>0</td>\n",
              "      <td>1</td>\n",
              "      <td>3</td>\n",
              "      <td>2</td>\n",
              "      <td>0</td>\n",
              "      <td>0</td>\n",
              "      <td>0</td>\n",
              "      <td>0</td>\n",
              "      <td>0</td>\n",
              "      <td>0</td>\n",
              "      <td>1</td>\n",
              "      <td>7</td>\n",
              "      <td>0</td>\n",
              "      <td>1</td>\n",
              "      <td>3</td>\n",
              "      <td>1</td>\n",
              "      <td>3</td>\n",
              "      <td>0</td>\n",
              "      <td>0</td>\n",
              "      <td>0</td>\n",
              "      <td>0</td>\n",
              "      <td>3</td>\n",
              "      <td>0</td>\n",
              "      <td>0</td>\n",
              "    </tr>\n",
              "    <tr>\n",
              "      <th>2</th>\n",
              "      <td>200002</td>\n",
              "      <td>0</td>\n",
              "      <td>1</td>\n",
              "      <td>7</td>\n",
              "      <td>1</td>\n",
              "      <td>0</td>\n",
              "      <td>0</td>\n",
              "      <td>0</td>\n",
              "      <td>0</td>\n",
              "      <td>6</td>\n",
              "      <td>0</td>\n",
              "      <td>1</td>\n",
              "      <td>0</td>\n",
              "      <td>0</td>\n",
              "      <td>0</td>\n",
              "      <td>1</td>\n",
              "      <td>0</td>\n",
              "      <td>0</td>\n",
              "      <td>1</td>\n",
              "      <td>0</td>\n",
              "      <td>0</td>\n",
              "      <td>0</td>\n",
              "      <td>0</td>\n",
              "      <td>0</td>\n",
              "      <td>1</td>\n",
              "      <td>0</td>\n",
              "      <td>0</td>\n",
              "      <td>0</td>\n",
              "      <td>0</td>\n",
              "      <td>2</td>\n",
              "      <td>0</td>\n",
              "      <td>0</td>\n",
              "      <td>4</td>\n",
              "      <td>0</td>\n",
              "      <td>0</td>\n",
              "      <td>0</td>\n",
              "      <td>0</td>\n",
              "      <td>0</td>\n",
              "      <td>0</td>\n",
              "      <td>0</td>\n",
              "      <td>0</td>\n",
              "      <td>1</td>\n",
              "      <td>0</td>\n",
              "      <td>0</td>\n",
              "      <td>4</td>\n",
              "      <td>0</td>\n",
              "      <td>0</td>\n",
              "      <td>1</td>\n",
              "      <td>0</td>\n",
              "      <td>0</td>\n",
              "      <td>0</td>\n",
              "      <td>6</td>\n",
              "      <td>0</td>\n",
              "      <td>0</td>\n",
              "      <td>2</td>\n",
              "      <td>10</td>\n",
              "      <td>0</td>\n",
              "      <td>0</td>\n",
              "      <td>0</td>\n",
              "      <td>2</td>\n",
              "      <td>1</td>\n",
              "      <td>0</td>\n",
              "      <td>0</td>\n",
              "      <td>0</td>\n",
              "      <td>0</td>\n",
              "      <td>0</td>\n",
              "      <td>3</td>\n",
              "      <td>0</td>\n",
              "      <td>0</td>\n",
              "      <td>0</td>\n",
              "      <td>0</td>\n",
              "      <td>3</td>\n",
              "      <td>0</td>\n",
              "      <td>2</td>\n",
              "      <td>0</td>\n",
              "      <td>0</td>\n",
              "    </tr>\n",
              "    <tr>\n",
              "      <th>3</th>\n",
              "      <td>200003</td>\n",
              "      <td>0</td>\n",
              "      <td>0</td>\n",
              "      <td>0</td>\n",
              "      <td>4</td>\n",
              "      <td>3</td>\n",
              "      <td>1</td>\n",
              "      <td>0</td>\n",
              "      <td>0</td>\n",
              "      <td>0</td>\n",
              "      <td>0</td>\n",
              "      <td>7</td>\n",
              "      <td>0</td>\n",
              "      <td>0</td>\n",
              "      <td>0</td>\n",
              "      <td>7</td>\n",
              "      <td>0</td>\n",
              "      <td>0</td>\n",
              "      <td>0</td>\n",
              "      <td>5</td>\n",
              "      <td>0</td>\n",
              "      <td>1</td>\n",
              "      <td>0</td>\n",
              "      <td>0</td>\n",
              "      <td>0</td>\n",
              "      <td>0</td>\n",
              "      <td>0</td>\n",
              "      <td>0</td>\n",
              "      <td>2</td>\n",
              "      <td>0</td>\n",
              "      <td>0</td>\n",
              "      <td>1</td>\n",
              "      <td>0</td>\n",
              "      <td>0</td>\n",
              "      <td>0</td>\n",
              "      <td>0</td>\n",
              "      <td>0</td>\n",
              "      <td>0</td>\n",
              "      <td>0</td>\n",
              "      <td>0</td>\n",
              "      <td>1</td>\n",
              "      <td>0</td>\n",
              "      <td>0</td>\n",
              "      <td>7</td>\n",
              "      <td>5</td>\n",
              "      <td>0</td>\n",
              "      <td>0</td>\n",
              "      <td>0</td>\n",
              "      <td>0</td>\n",
              "      <td>0</td>\n",
              "      <td>0</td>\n",
              "      <td>0</td>\n",
              "      <td>0</td>\n",
              "      <td>0</td>\n",
              "      <td>2</td>\n",
              "      <td>3</td>\n",
              "      <td>0</td>\n",
              "      <td>0</td>\n",
              "      <td>0</td>\n",
              "      <td>1</td>\n",
              "      <td>0</td>\n",
              "      <td>0</td>\n",
              "      <td>0</td>\n",
              "      <td>0</td>\n",
              "      <td>0</td>\n",
              "      <td>4</td>\n",
              "      <td>0</td>\n",
              "      <td>0</td>\n",
              "      <td>0</td>\n",
              "      <td>1</td>\n",
              "      <td>0</td>\n",
              "      <td>0</td>\n",
              "      <td>0</td>\n",
              "      <td>4</td>\n",
              "      <td>0</td>\n",
              "      <td>0</td>\n",
              "    </tr>\n",
              "    <tr>\n",
              "      <th>4</th>\n",
              "      <td>200004</td>\n",
              "      <td>0</td>\n",
              "      <td>0</td>\n",
              "      <td>5</td>\n",
              "      <td>0</td>\n",
              "      <td>0</td>\n",
              "      <td>0</td>\n",
              "      <td>0</td>\n",
              "      <td>0</td>\n",
              "      <td>0</td>\n",
              "      <td>8</td>\n",
              "      <td>1</td>\n",
              "      <td>0</td>\n",
              "      <td>2</td>\n",
              "      <td>0</td>\n",
              "      <td>0</td>\n",
              "      <td>0</td>\n",
              "      <td>0</td>\n",
              "      <td>0</td>\n",
              "      <td>9</td>\n",
              "      <td>1</td>\n",
              "      <td>0</td>\n",
              "      <td>0</td>\n",
              "      <td>0</td>\n",
              "      <td>0</td>\n",
              "      <td>0</td>\n",
              "      <td>0</td>\n",
              "      <td>0</td>\n",
              "      <td>0</td>\n",
              "      <td>3</td>\n",
              "      <td>0</td>\n",
              "      <td>5</td>\n",
              "      <td>0</td>\n",
              "      <td>0</td>\n",
              "      <td>0</td>\n",
              "      <td>1</td>\n",
              "      <td>0</td>\n",
              "      <td>0</td>\n",
              "      <td>0</td>\n",
              "      <td>0</td>\n",
              "      <td>0</td>\n",
              "      <td>0</td>\n",
              "      <td>0</td>\n",
              "      <td>0</td>\n",
              "      <td>0</td>\n",
              "      <td>0</td>\n",
              "      <td>0</td>\n",
              "      <td>2</td>\n",
              "      <td>0</td>\n",
              "      <td>0</td>\n",
              "      <td>0</td>\n",
              "      <td>0</td>\n",
              "      <td>2</td>\n",
              "      <td>2</td>\n",
              "      <td>1</td>\n",
              "      <td>5</td>\n",
              "      <td>0</td>\n",
              "      <td>0</td>\n",
              "      <td>0</td>\n",
              "      <td>0</td>\n",
              "      <td>0</td>\n",
              "      <td>0</td>\n",
              "      <td>1</td>\n",
              "      <td>0</td>\n",
              "      <td>0</td>\n",
              "      <td>0</td>\n",
              "      <td>0</td>\n",
              "      <td>0</td>\n",
              "      <td>0</td>\n",
              "      <td>0</td>\n",
              "      <td>0</td>\n",
              "      <td>0</td>\n",
              "      <td>0</td>\n",
              "      <td>0</td>\n",
              "      <td>1</td>\n",
              "      <td>0</td>\n",
              "    </tr>\n",
              "  </tbody>\n",
              "</table>\n",
              "</div>"
            ],
            "text/plain": [
              "       id  feature_0  feature_1  ...  feature_72  feature_73  feature_74\n",
              "0  200000          0          0  ...           0           0           0\n",
              "1  200001          1          2  ...           3           0           0\n",
              "2  200002          0          1  ...           2           0           0\n",
              "3  200003          0          0  ...           4           0           0\n",
              "4  200004          0          0  ...           0           1           0\n",
              "\n",
              "[5 rows x 76 columns]"
            ]
          },
          "metadata": {
            "tags": []
          },
          "execution_count": 15
        }
      ]
    },
    {
      "cell_type": "code",
      "metadata": {
        "id": "MeFapYDFqbg0"
      },
      "source": [
        "list_features = []\n",
        "for i in range (74):\n",
        "  list_features.append(f\"feature_{i+1}\")"
      ],
      "execution_count": null,
      "outputs": []
    },
    {
      "cell_type": "code",
      "metadata": {
        "id": "Get2tpMajqOj"
      },
      "source": [
        "from sklearn.compose import make_column_transformer\n",
        "from sklearn.preprocessing import MinMaxScaler, OneHotEncoder\n",
        "from sklearn.model_selection import train_test_split\n",
        "\n",
        "# Create column transformer (this will help us normalize/preprocess our data)\n",
        "ct = make_column_transformer(\n",
        "    (MinMaxScaler(), list_features), # get all values between 0 and 1\n",
        ")\n",
        "\n",
        "# Create X & y\n",
        "X = df_train.drop([\"target\", \"id\"], axis=1)\n",
        "y = df_train[\"target\"]\n",
        "\n",
        "\n",
        "X_test_Final = df_test.drop(\"id\", axis=1)\n",
        "\n",
        "\n",
        "# Create X & y\n",
        "# Build our train and test sets (use random state to ensure same split as before)\n",
        "X_train, X_test, y_train, y_test = train_test_split(X, y, test_size=0.2, random_state=42)\n",
        "\n",
        "\n",
        "\n",
        "\n",
        "\n",
        "# Fit column transformer on the training data only (doing so on test data would result in data leakage)\n",
        "ct.fit(X_train)\n",
        "\n",
        "# Transform training and test data with normalization (MinMaxScalar) and one hot encoding (OneHotEncoder)\n",
        "X_train_normal = ct.transform(X_train)\n",
        "X_test_normal = ct.transform(X_test)\n",
        "X_test_final_norm = ct.transform(X_test_Final)"
      ],
      "execution_count": null,
      "outputs": []
    },
    {
      "cell_type": "code",
      "metadata": {
        "colab": {
          "base_uri": "https://localhost:8080/"
        },
        "id": "mPROEujoyBrs",
        "outputId": "46747933-fc64-4baf-f30c-5ced306f2591"
      },
      "source": [
        "from sklearn import preprocessing\n",
        "le = preprocessing.LabelEncoder()\n",
        "le.fit(y)"
      ],
      "execution_count": null,
      "outputs": [
        {
          "output_type": "execute_result",
          "data": {
            "text/plain": [
              "LabelEncoder()"
            ]
          },
          "metadata": {
            "tags": []
          },
          "execution_count": 20
        }
      ]
    },
    {
      "cell_type": "code",
      "metadata": {
        "colab": {
          "base_uri": "https://localhost:8080/"
        },
        "id": "l8P0UOAj2kjg",
        "outputId": "89439004-f03e-4d06-ad0e-a0a749391422"
      },
      "source": [
        "list_classes = list(le.classes_)\n",
        "list_classes"
      ],
      "execution_count": null,
      "outputs": [
        {
          "output_type": "execute_result",
          "data": {
            "text/plain": [
              "['Class_1',\n",
              " 'Class_2',\n",
              " 'Class_3',\n",
              " 'Class_4',\n",
              " 'Class_5',\n",
              " 'Class_6',\n",
              " 'Class_7',\n",
              " 'Class_8',\n",
              " 'Class_9']"
            ]
          },
          "metadata": {
            "tags": []
          },
          "execution_count": 21
        }
      ]
    },
    {
      "cell_type": "code",
      "metadata": {
        "id": "v5zjN5fb3ZGt"
      },
      "source": [
        "train_labels = le.transform(y_train)\n",
        "test_labels = le.transform(y_test)"
      ],
      "execution_count": null,
      "outputs": []
    },
    {
      "cell_type": "code",
      "metadata": {
        "id": "WY-VEO5j42Zz"
      },
      "source": [
        "train_data = X_train_normal\n",
        "test_data = X_test_normal"
      ],
      "execution_count": null,
      "outputs": []
    },
    {
      "cell_type": "code",
      "metadata": {
        "colab": {
          "base_uri": "https://localhost:8080/"
        },
        "id": "UWFq51Ya3c45",
        "outputId": "41fe3cab-9719-427d-8384-cdd3e45f4ab3"
      },
      "source": [
        "train_labels.shape, train_data.shape"
      ],
      "execution_count": null,
      "outputs": [
        {
          "output_type": "execute_result",
          "data": {
            "text/plain": [
              "((160000,), (160000, 74))"
            ]
          },
          "metadata": {
            "tags": []
          },
          "execution_count": 26
        }
      ]
    },
    {
      "cell_type": "code",
      "metadata": {
        "colab": {
          "base_uri": "https://localhost:8080/"
        },
        "id": "X4dMvLgMGAUn",
        "outputId": "53224dba-f175-4224-d5ed-0f356ca90a72"
      },
      "source": [
        "X_test_final_norm.shape"
      ],
      "execution_count": null,
      "outputs": [
        {
          "output_type": "execute_result",
          "data": {
            "text/plain": [
              "(100000, 74)"
            ]
          },
          "metadata": {
            "tags": []
          },
          "execution_count": 27
        }
      ]
    },
    {
      "cell_type": "markdown",
      "metadata": {
        "id": "59hbRIqGYruY"
      },
      "source": [
        "# **Model_1**"
      ]
    },
    {
      "cell_type": "code",
      "metadata": {
        "id": "7Mii_OnU4Ec4"
      },
      "source": [
        "import tensorflow as tf"
      ],
      "execution_count": null,
      "outputs": []
    },
    {
      "cell_type": "code",
      "metadata": {
        "id": "7AP6mbdL37FA",
        "colab": {
          "base_uri": "https://localhost:8080/"
        },
        "outputId": "9b01e668-8d03-45ff-f24e-6b1595f40f64"
      },
      "source": [
        "# Set random seed\n",
        "tf.random.set_seed(42)\n",
        "\n",
        "# Create the model\n",
        "model_1 = tf.keras.Sequential([\n",
        "  tf.keras.layers.Dense(50, activation=\"relu\"),\n",
        "  tf.keras.layers.Dense(100, activation=\"relu\"),\n",
        "  tf.keras.layers.Dense(9, activation=\"softmax\") # output shape is 10, activation is softmax\n",
        "])\n",
        "\n",
        "# Compile the model\n",
        "model_1.compile(loss=tf.keras.losses.SparseCategoricalCrossentropy(), # different loss function for multiclass classifcation\n",
        "                 optimizer=tf.keras.optimizers.Adam(),\n",
        "                 metrics=[\"accuracy\"])\n",
        "\n",
        "# Create the learning rate callback\n",
        "lr_scheduler = tf.keras.callbacks.LearningRateScheduler(lambda epoch: 1e-3 * 10**(epoch/20))\n",
        "\n",
        "# Fit the model\n",
        "norm_history = model_1.fit(train_data,\n",
        "                                train_labels,\n",
        "                                epochs=50,\n",
        "                                validation_data=(test_data, test_labels),\n",
        "                                callbacks=[lr_scheduler]) # see how the model performs on the test set during training"
      ],
      "execution_count": null,
      "outputs": [
        {
          "output_type": "stream",
          "text": [
            "Epoch 1/50\n",
            "5000/5000 [==============================] - 12s 2ms/step - loss: 1.8006 - accuracy: 0.3414 - val_loss: 1.7828 - val_accuracy: 0.3473\n",
            "Epoch 2/50\n",
            "5000/5000 [==============================] - 9s 2ms/step - loss: 1.7739 - accuracy: 0.3523 - val_loss: 1.7737 - val_accuracy: 0.3537\n",
            "Epoch 3/50\n",
            "5000/5000 [==============================] - 9s 2ms/step - loss: 1.7673 - accuracy: 0.3543 - val_loss: 1.7746 - val_accuracy: 0.3522\n",
            "Epoch 4/50\n",
            "5000/5000 [==============================] - 9s 2ms/step - loss: 1.7633 - accuracy: 0.3556 - val_loss: 1.7711 - val_accuracy: 0.3546\n",
            "Epoch 5/50\n",
            "5000/5000 [==============================] - 9s 2ms/step - loss: 1.7605 - accuracy: 0.3563 - val_loss: 1.7710 - val_accuracy: 0.3555\n",
            "Epoch 6/50\n",
            "5000/5000 [==============================] - 9s 2ms/step - loss: 1.7581 - accuracy: 0.3577 - val_loss: 1.7698 - val_accuracy: 0.3562\n",
            "Epoch 7/50\n",
            "5000/5000 [==============================] - 9s 2ms/step - loss: 1.7564 - accuracy: 0.3580 - val_loss: 1.7694 - val_accuracy: 0.3568\n",
            "Epoch 8/50\n",
            "5000/5000 [==============================] - 9s 2ms/step - loss: 1.7552 - accuracy: 0.3582 - val_loss: 1.7715 - val_accuracy: 0.3561\n",
            "Epoch 9/50\n",
            "5000/5000 [==============================] - 9s 2ms/step - loss: 1.7542 - accuracy: 0.3595 - val_loss: 1.7760 - val_accuracy: 0.3536\n",
            "Epoch 10/50\n",
            "5000/5000 [==============================] - 9s 2ms/step - loss: 1.7534 - accuracy: 0.3589 - val_loss: 1.7733 - val_accuracy: 0.3561\n",
            "Epoch 11/50\n",
            "5000/5000 [==============================] - 9s 2ms/step - loss: 1.7530 - accuracy: 0.3591 - val_loss: 1.7791 - val_accuracy: 0.3526\n",
            "Epoch 12/50\n",
            "5000/5000 [==============================] - 9s 2ms/step - loss: 1.7533 - accuracy: 0.3591 - val_loss: 1.7724 - val_accuracy: 0.3562\n",
            "Epoch 13/50\n",
            "5000/5000 [==============================] - 9s 2ms/step - loss: 1.7540 - accuracy: 0.3597 - val_loss: 1.7781 - val_accuracy: 0.3537\n",
            "Epoch 14/50\n",
            "5000/5000 [==============================] - 9s 2ms/step - loss: 1.7548 - accuracy: 0.3586 - val_loss: 1.7744 - val_accuracy: 0.3574\n",
            "Epoch 15/50\n",
            "5000/5000 [==============================] - 9s 2ms/step - loss: 1.7562 - accuracy: 0.3585 - val_loss: 1.7733 - val_accuracy: 0.3546\n",
            "Epoch 16/50\n",
            "5000/5000 [==============================] - 9s 2ms/step - loss: 1.7580 - accuracy: 0.3578 - val_loss: 1.7718 - val_accuracy: 0.3561\n",
            "Epoch 17/50\n",
            "5000/5000 [==============================] - 9s 2ms/step - loss: 1.7597 - accuracy: 0.3571 - val_loss: 1.7758 - val_accuracy: 0.3557\n",
            "Epoch 18/50\n",
            "5000/5000 [==============================] - 9s 2ms/step - loss: 1.7613 - accuracy: 0.3566 - val_loss: 1.7748 - val_accuracy: 0.3548\n",
            "Epoch 19/50\n",
            "5000/5000 [==============================] - 9s 2ms/step - loss: 1.7632 - accuracy: 0.3565 - val_loss: 1.7757 - val_accuracy: 0.3558\n",
            "Epoch 20/50\n",
            "5000/5000 [==============================] - 9s 2ms/step - loss: 1.7645 - accuracy: 0.3562 - val_loss: 1.7764 - val_accuracy: 0.3485\n",
            "Epoch 21/50\n",
            "5000/5000 [==============================] - 9s 2ms/step - loss: 1.7664 - accuracy: 0.3551 - val_loss: 1.7735 - val_accuracy: 0.3562\n",
            "Epoch 22/50\n",
            "5000/5000 [==============================] - 9s 2ms/step - loss: 1.7680 - accuracy: 0.3542 - val_loss: 1.7847 - val_accuracy: 0.3513\n",
            "Epoch 23/50\n",
            "5000/5000 [==============================] - 9s 2ms/step - loss: 1.7700 - accuracy: 0.3534 - val_loss: 1.7804 - val_accuracy: 0.3514\n",
            "Epoch 24/50\n",
            "5000/5000 [==============================] - 9s 2ms/step - loss: 1.7716 - accuracy: 0.3534 - val_loss: 1.7791 - val_accuracy: 0.3534\n",
            "Epoch 25/50\n",
            "5000/5000 [==============================] - 9s 2ms/step - loss: 1.7738 - accuracy: 0.3520 - val_loss: 1.7821 - val_accuracy: 0.3541\n",
            "Epoch 26/50\n",
            "5000/5000 [==============================] - 9s 2ms/step - loss: 1.7781 - accuracy: 0.3510 - val_loss: 1.7811 - val_accuracy: 0.3516\n",
            "Epoch 27/50\n",
            "5000/5000 [==============================] - 9s 2ms/step - loss: 1.7807 - accuracy: 0.3499 - val_loss: 1.7870 - val_accuracy: 0.3530\n",
            "Epoch 28/50\n",
            "5000/5000 [==============================] - 9s 2ms/step - loss: 1.7864 - accuracy: 0.3478 - val_loss: 1.7856 - val_accuracy: 0.3503\n",
            "Epoch 29/50\n",
            "5000/5000 [==============================] - 9s 2ms/step - loss: 1.7886 - accuracy: 0.3460 - val_loss: 1.7981 - val_accuracy: 0.3392\n",
            "Epoch 30/50\n",
            "5000/5000 [==============================] - 9s 2ms/step - loss: 1.7930 - accuracy: 0.3429 - val_loss: 1.7965 - val_accuracy: 0.3448\n",
            "Epoch 31/50\n",
            "5000/5000 [==============================] - 9s 2ms/step - loss: 1.7951 - accuracy: 0.3436 - val_loss: 1.7912 - val_accuracy: 0.3498\n",
            "Epoch 32/50\n",
            "5000/5000 [==============================] - 9s 2ms/step - loss: 1.8004 - accuracy: 0.3419 - val_loss: 1.8066 - val_accuracy: 0.3412\n",
            "Epoch 33/50\n",
            "5000/5000 [==============================] - 9s 2ms/step - loss: 1.8052 - accuracy: 0.3386 - val_loss: 1.8081 - val_accuracy: 0.3433\n",
            "Epoch 34/50\n",
            "5000/5000 [==============================] - 9s 2ms/step - loss: 1.8108 - accuracy: 0.3335 - val_loss: 1.8011 - val_accuracy: 0.3390\n",
            "Epoch 35/50\n",
            "5000/5000 [==============================] - 9s 2ms/step - loss: 1.8142 - accuracy: 0.3313 - val_loss: 1.8050 - val_accuracy: 0.3400\n",
            "Epoch 36/50\n",
            "5000/5000 [==============================] - 9s 2ms/step - loss: 1.8196 - accuracy: 0.3256 - val_loss: 1.8178 - val_accuracy: 0.3363\n",
            "Epoch 37/50\n",
            "5000/5000 [==============================] - 9s 2ms/step - loss: 1.8246 - accuracy: 0.3201 - val_loss: 1.8233 - val_accuracy: 0.3276\n",
            "Epoch 38/50\n",
            "5000/5000 [==============================] - 9s 2ms/step - loss: 1.8280 - accuracy: 0.3174 - val_loss: 1.8194 - val_accuracy: 0.3316\n",
            "Epoch 39/50\n",
            "5000/5000 [==============================] - 9s 2ms/step - loss: 1.8292 - accuracy: 0.3169 - val_loss: 1.8379 - val_accuracy: 0.3133\n",
            "Epoch 40/50\n",
            "5000/5000 [==============================] - 9s 2ms/step - loss: 1.8459 - accuracy: 0.3007 - val_loss: 1.8367 - val_accuracy: 0.2889\n",
            "Epoch 41/50\n",
            "5000/5000 [==============================] - 9s 2ms/step - loss: 1.8502 - accuracy: 0.2849 - val_loss: 1.8399 - val_accuracy: 0.2891\n",
            "Epoch 42/50\n",
            "5000/5000 [==============================] - 9s 2ms/step - loss: 1.8561 - accuracy: 0.2844 - val_loss: 1.8448 - val_accuracy: 0.2886\n",
            "Epoch 43/50\n",
            "5000/5000 [==============================] - 9s 2ms/step - loss: 1.8702 - accuracy: 0.2803 - val_loss: 1.9097 - val_accuracy: 0.2587\n",
            "Epoch 44/50\n",
            "5000/5000 [==============================] - 9s 2ms/step - loss: 1.9125 - accuracy: 0.2569 - val_loss: 1.9264 - val_accuracy: 0.2594\n",
            "Epoch 45/50\n",
            "5000/5000 [==============================] - 9s 2ms/step - loss: 1.9137 - accuracy: 0.2584 - val_loss: 1.9011 - val_accuracy: 0.2587\n",
            "Epoch 46/50\n",
            "5000/5000 [==============================] - 9s 2ms/step - loss: 1.9160 - accuracy: 0.2593 - val_loss: 1.9097 - val_accuracy: 0.2587\n",
            "Epoch 47/50\n",
            "5000/5000 [==============================] - 9s 2ms/step - loss: 1.9176 - accuracy: 0.2580 - val_loss: 1.9133 - val_accuracy: 0.2594\n",
            "Epoch 48/50\n",
            "5000/5000 [==============================] - 9s 2ms/step - loss: 1.9210 - accuracy: 0.2596 - val_loss: 1.9135 - val_accuracy: 0.2587\n",
            "Epoch 49/50\n",
            "5000/5000 [==============================] - 9s 2ms/step - loss: 1.9224 - accuracy: 0.2576 - val_loss: 1.9159 - val_accuracy: 0.2594\n",
            "Epoch 50/50\n",
            "5000/5000 [==============================] - 9s 2ms/step - loss: 1.9256 - accuracy: 0.2584 - val_loss: 1.9220 - val_accuracy: 0.2594\n"
          ],
          "name": "stdout"
        }
      ]
    },
    {
      "cell_type": "code",
      "metadata": {
        "colab": {
          "base_uri": "https://localhost:8080/"
        },
        "id": "JHYIQignSVqO",
        "outputId": "1ec07e08-7f6e-4dd9-e454-de4476b61d53"
      },
      "source": [
        "model_1.evaluate(test_data, test_labels)"
      ],
      "execution_count": null,
      "outputs": [
        {
          "output_type": "stream",
          "text": [
            "1250/1250 [==============================] - 2s 1ms/step - loss: 1.9220 - accuracy: 0.2594\n"
          ],
          "name": "stdout"
        },
        {
          "output_type": "execute_result",
          "data": {
            "text/plain": [
              "[1.92195725440979, 0.2594499886035919]"
            ]
          },
          "metadata": {
            "tags": []
          },
          "execution_count": 76
        }
      ]
    },
    {
      "cell_type": "code",
      "metadata": {
        "colab": {
          "base_uri": "https://localhost:8080/",
          "height": 299
        },
        "id": "IlFmPQd2BsAH",
        "outputId": "7e21c34b-1201-4640-d2c3-f2cd621f2479"
      },
      "source": [
        "# Plot the learning rate decay curve\n",
        "import numpy as np\n",
        "import matplotlib.pyplot as plt\n",
        "lrs = 1e-3 * (10**(np.arange(50)/20))\n",
        "plt.semilogx(lrs, norm_history.history[\"loss\"]) # want the x-axis to be log-scale\n",
        "plt.xlabel(\"Learning rate\")\n",
        "plt.ylabel(\"Loss\")\n",
        "plt.title(\"Finding the ideal learning rate\");"
      ],
      "execution_count": null,
      "outputs": [
        {
          "output_type": "display_data",
          "data": {
            "image/png": "[encoded data removed]",
            "text/plain": [
              "<Figure size 432x288 with 1 Axes>"
            ]
          },
          "metadata": {
            "tags": [],
            "needs_background": "light"
          }
        }
      ]
    },
    {
      "cell_type": "markdown",
      "metadata": {
        "id": "UWXouFCzDmlY"
      },
      "source": [
        "# **So our best lr is 0.001**"
      ]
    },
    {
      "cell_type": "code",
      "metadata": {
        "colab": {
          "base_uri": "https://localhost:8080/",
          "height": 281
        },
        "id": "zqSmCq2p5BLH",
        "outputId": "26c81142-d306-488b-c6a0-ef36e0acfaff"
      },
      "source": [
        "import matplotlib.pyplot as plt\n",
        "pd.DataFrame(norm_history.history).plot()\n",
        "plt.ylabel(\"loss\")\n",
        "plt.xlabel(\"epochs\");"
      ],
      "execution_count": null,
      "outputs": [
        {
          "output_type": "display_data",
          "data": {
            "image/png": "[encoded data removed]",
            "text/plain": [
              "<Figure size 432x288 with 1 Axes>"
            ]
          },
          "metadata": {
            "tags": [],
            "needs_background": "light"
          }
        }
      ]
    },
    {
      "cell_type": "markdown",
      "metadata": {
        "id": "aoQH8CHXGx-U"
      },
      "source": [
        "# **CONFUSION_METRICES**"
      ]
    },
    {
      "cell_type": "code",
      "metadata": {
        "colab": {
          "base_uri": "https://localhost:8080/"
        },
        "id": "l7DPgGDL83wp",
        "outputId": "df344852-705d-4ea7-f167-b9877f12baf6"
      },
      "source": [
        "y_prob_classes = model_1.predict(test_data)\n",
        "\n",
        "y_prob_classes[:5], y_prob_classes.shape"
      ],
      "execution_count": null,
      "outputs": [
        {
          "output_type": "execute_result",
          "data": {
            "text/plain": [
              "(array([[0.05300175, 0.09273123, 0.05832354, 0.03512232, 0.00511611,\n",
              "         0.31427833, 0.05660772, 0.2511653 , 0.13365373],\n",
              "        [0.05300175, 0.09273123, 0.05832354, 0.03512232, 0.00511611,\n",
              "         0.31427833, 0.05660772, 0.2511653 , 0.13365373],\n",
              "        [0.05300175, 0.09273123, 0.05832354, 0.03512232, 0.00511611,\n",
              "         0.31427833, 0.05660772, 0.2511653 , 0.13365373],\n",
              "        [0.05300175, 0.09273123, 0.05832354, 0.03512232, 0.00511611,\n",
              "         0.31427833, 0.05660772, 0.2511653 , 0.13365373],\n",
              "        [0.05300175, 0.09273123, 0.05832354, 0.03512232, 0.00511611,\n",
              "         0.31427833, 0.05660772, 0.2511653 , 0.13365373]], dtype=float32),\n",
              " (40000, 9))"
            ]
          },
          "metadata": {
            "tags": []
          },
          "execution_count": 41
        }
      ]
    },
    {
      "cell_type": "code",
      "metadata": {
        "colab": {
          "base_uri": "https://localhost:8080/"
        },
        "id": "zHyrnUyy9EHW",
        "outputId": "7be4afe9-624f-48ae-e225-072408a1f585"
      },
      "source": [
        "y_pred_classes = y_prob_classes.argmax(axis = 1)\n",
        "y_pred_classes.shape, test_data.shape,test_labels.shape"
      ],
      "execution_count": null,
      "outputs": [
        {
          "output_type": "execute_result",
          "data": {
            "text/plain": [
              "((40000,), (40000, 74), (40000,))"
            ]
          },
          "metadata": {
            "tags": []
          },
          "execution_count": 43
        }
      ]
    },
    {
      "cell_type": "code",
      "metadata": {
        "colab": {
          "base_uri": "https://localhost:8080/"
        },
        "id": "T6fdciqC8yRq",
        "outputId": "24fb419b-e5ef-4b02-91b4-fa67a4aefdce"
      },
      "source": [
        "# Check out the non-prettified confusion matrix\n",
        "from sklearn.metrics import confusion_matrix\n",
        "confusion_matrix(y_true=test_labels, \n",
        "                 y_pred=y_pred_classes)"
      ],
      "execution_count": null,
      "outputs": [
        {
          "output_type": "execute_result",
          "data": {
            "text/plain": [
              "array([[    0,     0,     0,     0,     0,  1820,     0,     0,     0],\n",
              "       [    0,     0,     0,     0,     0,  4924,     0,     0,     0],\n",
              "       [    0,     0,     0,     0,     0,  2938,     0,     0,     0],\n",
              "       [    0,     0,     0,     0,     0,   974,     0,     0,     0],\n",
              "       [    0,     0,     0,     0,     0,   613,     0,     0,     0],\n",
              "       [    0,     0,     0,     0,     0, 10378,     0,     1,     0],\n",
              "       [    0,     0,     0,     0,     0,  2980,     0,     0,     0],\n",
              "       [    0,     0,     0,     0,     0, 10350,     0,     0,     0],\n",
              "       [    0,     0,     0,     0,     0,  5022,     0,     0,     0]])"
            ]
          },
          "metadata": {
            "tags": []
          },
          "execution_count": 44
        }
      ]
    },
    {
      "cell_type": "code",
      "metadata": {
        "colab": {
          "base_uri": "https://localhost:8080/",
          "height": 1000
        },
        "id": "Sd4VsbN78jZE",
        "outputId": "527592b5-2e1f-414c-e798-2dc02b662139"
      },
      "source": [
        "make_confusion_matrix(test_labels, y_pred_classes, classes=list_classes, figsize=(20,20), text_size=10)"
      ],
      "execution_count": null,
      "outputs": [
        {
          "output_type": "display_data",
          "data": {
            "image/png": "[encoded data removed]",
            "text/plain": [
              "<Figure size 1440x1440 with 2 Axes>"
            ]
          },
          "metadata": {
            "tags": [],
            "needs_background": "light"
          }
        }
      ]
    },
    {
      "cell_type": "markdown",
      "metadata": {
        "id": "kJOud9iwEaEl"
      },
      "source": [
        "# Try to make submission Csv"
      ]
    },
    {
      "cell_type": "code",
      "metadata": {
        "colab": {
          "base_uri": "https://localhost:8080/"
        },
        "id": "IoB2r164FWOk",
        "outputId": "94c4ef53-ab00-449d-e176-060588a7d673"
      },
      "source": [
        "x = model_1.predict(X_test_final_norm)\n",
        "x[0]"
      ],
      "execution_count": null,
      "outputs": [
        {
          "output_type": "execute_result",
          "data": {
            "text/plain": [
              "array([0.05300175, 0.09273123, 0.05832354, 0.03512232, 0.00511611,\n",
              "       0.31427833, 0.05660772, 0.2511653 , 0.13365373], dtype=float32)"
            ]
          },
          "metadata": {
            "tags": []
          },
          "execution_count": 31
        }
      ]
    },
    {
      "cell_type": "code",
      "metadata": {
        "colab": {
          "base_uri": "https://localhost:8080/"
        },
        "id": "WXNiCpmTHDzu",
        "outputId": "44b7aa8d-d2b4-427c-f7ec-4587f55ab55e"
      },
      "source": [
        "ss.shape, x.shape"
      ],
      "execution_count": null,
      "outputs": [
        {
          "output_type": "execute_result",
          "data": {
            "text/plain": [
              "((100000, 10), (100000, 9))"
            ]
          },
          "metadata": {
            "tags": []
          },
          "execution_count": 32
        }
      ]
    },
    {
      "cell_type": "code",
      "metadata": {
        "colab": {
          "base_uri": "https://localhost:8080/",
          "height": 195
        },
        "id": "Y3dbyYj0GsCE",
        "outputId": "99f9a6a6-1aa3-4fe3-8cac-0a3ad4e14505"
      },
      "source": [
        "ss.iloc[:,1:10] = x\n",
        "ss.head()"
      ],
      "execution_count": null,
      "outputs": [
        {
          "output_type": "execute_result",
          "data": {
            "text/html": [
              "<div>\n",
              "<style scoped>\n",
              "    .dataframe tbody tr th:only-of-type {\n",
              "        vertical-align: middle;\n",
              "    }\n",
              "\n",
              "    .dataframe tbody tr th {\n",
              "        vertical-align: top;\n",
              "    }\n",
              "\n",
              "    .dataframe thead th {\n",
              "        text-align: right;\n",
              "    }\n",
              "</style>\n",
              "<table border=\"1\" class=\"dataframe\">\n",
              "  <thead>\n",
              "    <tr style=\"text-align: right;\">\n",
              "      <th></th>\n",
              "      <th>id</th>\n",
              "      <th>Class_1</th>\n",
              "      <th>Class_2</th>\n",
              "      <th>Class_3</th>\n",
              "      <th>Class_4</th>\n",
              "      <th>Class_5</th>\n",
              "      <th>Class_6</th>\n",
              "      <th>Class_7</th>\n",
              "      <th>Class_8</th>\n",
              "      <th>Class_9</th>\n",
              "    </tr>\n",
              "  </thead>\n",
              "  <tbody>\n",
              "    <tr>\n",
              "      <th>0</th>\n",
              "      <td>200000</td>\n",
              "      <td>0.053002</td>\n",
              "      <td>0.092731</td>\n",
              "      <td>0.058324</td>\n",
              "      <td>0.035122</td>\n",
              "      <td>0.005116</td>\n",
              "      <td>0.314278</td>\n",
              "      <td>0.056608</td>\n",
              "      <td>0.251165</td>\n",
              "      <td>0.133654</td>\n",
              "    </tr>\n",
              "    <tr>\n",
              "      <th>1</th>\n",
              "      <td>200001</td>\n",
              "      <td>0.053002</td>\n",
              "      <td>0.092731</td>\n",
              "      <td>0.058324</td>\n",
              "      <td>0.035122</td>\n",
              "      <td>0.005116</td>\n",
              "      <td>0.314278</td>\n",
              "      <td>0.056608</td>\n",
              "      <td>0.251165</td>\n",
              "      <td>0.133654</td>\n",
              "    </tr>\n",
              "    <tr>\n",
              "      <th>2</th>\n",
              "      <td>200002</td>\n",
              "      <td>0.053002</td>\n",
              "      <td>0.092731</td>\n",
              "      <td>0.058324</td>\n",
              "      <td>0.035122</td>\n",
              "      <td>0.005116</td>\n",
              "      <td>0.314278</td>\n",
              "      <td>0.056608</td>\n",
              "      <td>0.251165</td>\n",
              "      <td>0.133654</td>\n",
              "    </tr>\n",
              "    <tr>\n",
              "      <th>3</th>\n",
              "      <td>200003</td>\n",
              "      <td>0.053002</td>\n",
              "      <td>0.092731</td>\n",
              "      <td>0.058324</td>\n",
              "      <td>0.035122</td>\n",
              "      <td>0.005116</td>\n",
              "      <td>0.314278</td>\n",
              "      <td>0.056608</td>\n",
              "      <td>0.251165</td>\n",
              "      <td>0.133654</td>\n",
              "    </tr>\n",
              "    <tr>\n",
              "      <th>4</th>\n",
              "      <td>200004</td>\n",
              "      <td>0.053002</td>\n",
              "      <td>0.092731</td>\n",
              "      <td>0.058324</td>\n",
              "      <td>0.035122</td>\n",
              "      <td>0.005116</td>\n",
              "      <td>0.314278</td>\n",
              "      <td>0.056608</td>\n",
              "      <td>0.251165</td>\n",
              "      <td>0.133654</td>\n",
              "    </tr>\n",
              "  </tbody>\n",
              "</table>\n",
              "</div>"
            ],
            "text/plain": [
              "       id   Class_1   Class_2   Class_3  ...   Class_6   Class_7   Class_8   Class_9\n",
              "0  200000  0.053002  0.092731  0.058324  ...  0.314278  0.056608  0.251165  0.133654\n",
              "1  200001  0.053002  0.092731  0.058324  ...  0.314278  0.056608  0.251165  0.133654\n",
              "2  200002  0.053002  0.092731  0.058324  ...  0.314278  0.056608  0.251165  0.133654\n",
              "3  200003  0.053002  0.092731  0.058324  ...  0.314278  0.056608  0.251165  0.133654\n",
              "4  200004  0.053002  0.092731  0.058324  ...  0.314278  0.056608  0.251165  0.133654\n",
              "\n",
              "[5 rows x 10 columns]"
            ]
          },
          "metadata": {
            "tags": []
          },
          "execution_count": 35
        }
      ]
    },
    {
      "cell_type": "code",
      "metadata": {
        "colab": {
          "base_uri": "https://localhost:8080/",
          "height": 17
        },
        "id": "eLcvzaM0IiFf",
        "outputId": "6d4fbb38-67e6-4db6-efe5-5a8618742ce5"
      },
      "source": [
        "from google.colab import files\n",
        "import pandas as pd\n",
        "ss.to_csv('sample_submission_1.csv')\n",
        "files.download('sample_submission_1.csv')"
      ],
      "execution_count": null,
      "outputs": [
        {
          "output_type": "display_data",
          "data": {
            "application/javascript": [
              "\n",
              "    async function download(id, filename, size) {\n",
              "      if (!google.colab.kernel.accessAllowed) {\n",
              "        return;\n",
              "      }\n",
              "      const div = document.createElement('div');\n",
              "      const label = document.createElement('label');\n",
              "      label.textContent = `Downloading \"${filename}\": `;\n",
              "      div.appendChild(label);\n",
              "      const progress = document.createElement('progress');\n",
              "      progress.max = size;\n",
              "      div.appendChild(progress);\n",
              "      document.body.appendChild(div);\n",
              "\n",
              "      const buffers = [];\n",
              "      let downloaded = 0;\n",
              "\n",
              "      const channel = await google.colab.kernel.comms.open(id);\n",
              "      // Send a message to notify the kernel that we're ready.\n",
              "      channel.send({})\n",
              "\n",
              "      for await (const message of channel.messages) {\n",
              "        // Send a message to notify the kernel that we're ready.\n",
              "        channel.send({})\n",
              "        if (message.buffers) {\n",
              "          for (const buffer of message.buffers) {\n",
              "            buffers.push(buffer);\n",
              "            downloaded += buffer.byteLength;\n",
              "            progress.value = downloaded;\n",
              "          }\n",
              "        }\n",
              "      }\n",
              "      const blob = new Blob(buffers, {type: 'application/binary'});\n",
              "      const a = document.createElement('a');\n",
              "      a.href = window.URL.createObjectURL(blob);\n",
              "      a.download = filename;\n",
              "      div.appendChild(a);\n",
              "      a.click();\n",
              "      div.remove();\n",
              "    }\n",
              "  "
            ],
            "text/plain": [
              "<IPython.core.display.Javascript object>"
            ]
          },
          "metadata": {
            "tags": []
          }
        },
        {
          "output_type": "display_data",
          "data": {
            "application/javascript": [
              "download(\"download_21539c44-5a1a-4db5-88b3-88051c34d7c8\", \"sample_submission_1.csv\", 19388969)"
            ],
            "text/plain": [
              "<IPython.core.display.Javascript object>"
            ]
          },
          "metadata": {
            "tags": []
          }
        }
      ]
    },
    {
      "cell_type": "markdown",
      "metadata": {
        "id": "M2kRfGJXD1tQ"
      },
      "source": [
        "# But our Model is weak try another model"
      ]
    },
    {
      "cell_type": "markdown",
      "metadata": {
        "id": "yLWyz5sZHdQR"
      },
      "source": [
        "# **Model_2**"
      ]
    },
    {
      "cell_type": "code",
      "metadata": {
        "colab": {
          "base_uri": "https://localhost:8080/"
        },
        "id": "W2Vu5SwAIs12",
        "outputId": "073bce83-83dd-418b-b245-fc38d3f51373"
      },
      "source": [
        "train_data.shape, test_data.shape"
      ],
      "execution_count": null,
      "outputs": [
        {
          "output_type": "execute_result",
          "data": {
            "text/plain": [
              "((160000, 74), (40000, 74))"
            ]
          },
          "metadata": {
            "tags": []
          },
          "execution_count": 67
        }
      ]
    },
    {
      "cell_type": "code",
      "metadata": {
        "colab": {
          "base_uri": "https://localhost:8080/"
        },
        "id": "DyMRlG4qLVaW",
        "outputId": "4652c9d3-a716-407b-b729-fad3e56e6dd8"
      },
      "source": [
        "train_labels.shape, test_labels.shape"
      ],
      "execution_count": null,
      "outputs": [
        {
          "output_type": "execute_result",
          "data": {
            "text/plain": [
              "((160000,), (40000,))"
            ]
          },
          "metadata": {
            "tags": []
          },
          "execution_count": 61
        }
      ]
    },
    {
      "cell_type": "code",
      "metadata": {
        "colab": {
          "base_uri": "https://localhost:8080/"
        },
        "id": "V9bnGWYED_qs",
        "outputId": "c51d4a99-91c6-42e2-a01b-5c702627985a"
      },
      "source": [
        "# Set random seed\n",
        "tf.random.set_seed(42)\n",
        "\n",
        "# Create the model\n",
        "model_2 = tf.keras.Sequential([\n",
        "  tf.keras.layers.Dense(100, activation=\"relu\"),\n",
        "  tf.keras.layers.Dropout(.2, input_shape=(2,)),\n",
        "  tf.keras.layers.Dense(50, activation=\"relu\"),\n",
        "  tf.keras.layers.Dense(9, activation=\"softmax\") # output shape is 10, activation is softmax\n",
        "])\n",
        "\n",
        "# Compile the model\n",
        "model_2.compile(loss=tf.keras.losses.SparseCategoricalCrossentropy(), # different loss function for multiclass classifcation\n",
        "                 optimizer=tf.keras.optimizers.Adam(),\n",
        "                 metrics=[\"accuracy\"])\n",
        "\n",
        "\n",
        "# Fit the model\n",
        "norm_history = model_2.fit(train_data,\n",
        "                                train_labels,\n",
        "                                epochs=50,\n",
        "                                validation_data=(test_data, test_labels),) # see how the model performs on the test set during training"
      ],
      "execution_count": null,
      "outputs": [
        {
          "output_type": "stream",
          "text": [
            "Epoch 1/50\n",
            "5000/5000 [==============================] - 10s 2ms/step - loss: 1.8048 - accuracy: 0.3414 - val_loss: 1.7806 - val_accuracy: 0.3516\n",
            "Epoch 2/50\n",
            "5000/5000 [==============================] - 10s 2ms/step - loss: 1.7763 - accuracy: 0.3504 - val_loss: 1.7721 - val_accuracy: 0.3543\n",
            "Epoch 3/50\n",
            "5000/5000 [==============================] - 10s 2ms/step - loss: 1.7692 - accuracy: 0.3529 - val_loss: 1.7703 - val_accuracy: 0.3552\n",
            "Epoch 4/50\n",
            "5000/5000 [==============================] - 10s 2ms/step - loss: 1.7644 - accuracy: 0.3554 - val_loss: 1.7665 - val_accuracy: 0.3552\n",
            "Epoch 5/50\n",
            "5000/5000 [==============================] - 10s 2ms/step - loss: 1.7607 - accuracy: 0.3566 - val_loss: 1.7658 - val_accuracy: 0.3570\n",
            "Epoch 6/50\n",
            "5000/5000 [==============================] - 10s 2ms/step - loss: 1.7573 - accuracy: 0.3576 - val_loss: 1.7648 - val_accuracy: 0.3577\n",
            "Epoch 7/50\n",
            "5000/5000 [==============================] - 10s 2ms/step - loss: 1.7552 - accuracy: 0.3584 - val_loss: 1.7646 - val_accuracy: 0.3580\n",
            "Epoch 8/50\n",
            "5000/5000 [==============================] - 10s 2ms/step - loss: 1.7531 - accuracy: 0.3600 - val_loss: 1.7643 - val_accuracy: 0.3586\n",
            "Epoch 9/50\n",
            "5000/5000 [==============================] - 9s 2ms/step - loss: 1.7507 - accuracy: 0.3611 - val_loss: 1.7657 - val_accuracy: 0.3573\n",
            "Epoch 10/50\n",
            "5000/5000 [==============================] - 9s 2ms/step - loss: 1.7486 - accuracy: 0.3613 - val_loss: 1.7648 - val_accuracy: 0.3586\n",
            "Epoch 11/50\n",
            "5000/5000 [==============================] - 10s 2ms/step - loss: 1.7465 - accuracy: 0.3621 - val_loss: 1.7676 - val_accuracy: 0.3577\n",
            "Epoch 12/50\n",
            "5000/5000 [==============================] - 10s 2ms/step - loss: 1.7455 - accuracy: 0.3627 - val_loss: 1.7650 - val_accuracy: 0.3562\n",
            "Epoch 13/50\n",
            "5000/5000 [==============================] - 10s 2ms/step - loss: 1.7442 - accuracy: 0.3632 - val_loss: 1.7652 - val_accuracy: 0.3586\n",
            "Epoch 14/50\n",
            "5000/5000 [==============================] - 10s 2ms/step - loss: 1.7425 - accuracy: 0.3637 - val_loss: 1.7662 - val_accuracy: 0.3570\n",
            "Epoch 15/50\n",
            "5000/5000 [==============================] - 10s 2ms/step - loss: 1.7405 - accuracy: 0.3643 - val_loss: 1.7681 - val_accuracy: 0.3578\n",
            "Epoch 16/50\n",
            "5000/5000 [==============================] - 10s 2ms/step - loss: 1.7406 - accuracy: 0.3637 - val_loss: 1.7674 - val_accuracy: 0.3559\n",
            "Epoch 17/50\n",
            "5000/5000 [==============================] - 10s 2ms/step - loss: 1.7392 - accuracy: 0.3644 - val_loss: 1.7674 - val_accuracy: 0.3560\n",
            "Epoch 18/50\n",
            "5000/5000 [==============================] - 10s 2ms/step - loss: 1.7377 - accuracy: 0.3656 - val_loss: 1.7690 - val_accuracy: 0.3594\n",
            "Epoch 19/50\n",
            "5000/5000 [==============================] - 10s 2ms/step - loss: 1.7372 - accuracy: 0.3656 - val_loss: 1.7688 - val_accuracy: 0.3578\n",
            "Epoch 20/50\n",
            "5000/5000 [==============================] - 10s 2ms/step - loss: 1.7366 - accuracy: 0.3654 - val_loss: 1.7686 - val_accuracy: 0.3552\n",
            "Epoch 21/50\n",
            "5000/5000 [==============================] - 10s 2ms/step - loss: 1.7343 - accuracy: 0.3666 - val_loss: 1.7694 - val_accuracy: 0.3575\n",
            "Epoch 22/50\n",
            "5000/5000 [==============================] - 10s 2ms/step - loss: 1.7345 - accuracy: 0.3674 - val_loss: 1.7708 - val_accuracy: 0.3568\n",
            "Epoch 23/50\n",
            "5000/5000 [==============================] - 10s 2ms/step - loss: 1.7332 - accuracy: 0.3671 - val_loss: 1.7696 - val_accuracy: 0.3563\n",
            "Epoch 24/50\n",
            "5000/5000 [==============================] - 10s 2ms/step - loss: 1.7324 - accuracy: 0.3675 - val_loss: 1.7712 - val_accuracy: 0.3561\n",
            "Epoch 25/50\n",
            "5000/5000 [==============================] - 10s 2ms/step - loss: 1.7326 - accuracy: 0.3672 - val_loss: 1.7698 - val_accuracy: 0.3569\n",
            "Epoch 26/50\n",
            "5000/5000 [==============================] - 10s 2ms/step - loss: 1.7309 - accuracy: 0.3673 - val_loss: 1.7700 - val_accuracy: 0.3567\n",
            "Epoch 27/50\n",
            "5000/5000 [==============================] - 10s 2ms/step - loss: 1.7313 - accuracy: 0.3678 - val_loss: 1.7712 - val_accuracy: 0.3540\n",
            "Epoch 28/50\n",
            "5000/5000 [==============================] - 10s 2ms/step - loss: 1.7299 - accuracy: 0.3682 - val_loss: 1.7712 - val_accuracy: 0.3563\n",
            "Epoch 29/50\n",
            "5000/5000 [==============================] - 10s 2ms/step - loss: 1.7293 - accuracy: 0.3683 - val_loss: 1.7739 - val_accuracy: 0.3568\n",
            "Epoch 30/50\n",
            "5000/5000 [==============================] - 10s 2ms/step - loss: 1.7288 - accuracy: 0.3682 - val_loss: 1.7761 - val_accuracy: 0.3549\n",
            "Epoch 31/50\n",
            "5000/5000 [==============================] - 10s 2ms/step - loss: 1.7284 - accuracy: 0.3696 - val_loss: 1.7733 - val_accuracy: 0.3564\n",
            "Epoch 32/50\n",
            "5000/5000 [==============================] - 10s 2ms/step - loss: 1.7278 - accuracy: 0.3689 - val_loss: 1.7732 - val_accuracy: 0.3566\n",
            "Epoch 33/50\n",
            "5000/5000 [==============================] - 10s 2ms/step - loss: 1.7269 - accuracy: 0.3697 - val_loss: 1.7735 - val_accuracy: 0.3542\n",
            "Epoch 34/50\n",
            "5000/5000 [==============================] - 10s 2ms/step - loss: 1.7259 - accuracy: 0.3694 - val_loss: 1.7743 - val_accuracy: 0.3544\n",
            "Epoch 35/50\n",
            "5000/5000 [==============================] - 10s 2ms/step - loss: 1.7262 - accuracy: 0.3685 - val_loss: 1.7738 - val_accuracy: 0.3560\n",
            "Epoch 36/50\n",
            "5000/5000 [==============================] - 10s 2ms/step - loss: 1.7257 - accuracy: 0.3705 - val_loss: 1.7749 - val_accuracy: 0.3548\n",
            "Epoch 37/50\n",
            "5000/5000 [==============================] - 10s 2ms/step - loss: 1.7254 - accuracy: 0.3703 - val_loss: 1.7743 - val_accuracy: 0.3566\n",
            "Epoch 38/50\n",
            "5000/5000 [==============================] - 10s 2ms/step - loss: 1.7244 - accuracy: 0.3701 - val_loss: 1.7746 - val_accuracy: 0.3563\n",
            "Epoch 39/50\n",
            "5000/5000 [==============================] - 10s 2ms/step - loss: 1.7245 - accuracy: 0.3706 - val_loss: 1.7755 - val_accuracy: 0.3555\n",
            "Epoch 40/50\n",
            "5000/5000 [==============================] - 10s 2ms/step - loss: 1.7235 - accuracy: 0.3705 - val_loss: 1.7755 - val_accuracy: 0.3547\n",
            "Epoch 41/50\n",
            "5000/5000 [==============================] - 10s 2ms/step - loss: 1.7232 - accuracy: 0.3706 - val_loss: 1.7750 - val_accuracy: 0.3526\n",
            "Epoch 42/50\n",
            "5000/5000 [==============================] - 10s 2ms/step - loss: 1.7230 - accuracy: 0.3717 - val_loss: 1.7787 - val_accuracy: 0.3514\n",
            "Epoch 43/50\n",
            "5000/5000 [==============================] - 10s 2ms/step - loss: 1.7221 - accuracy: 0.3718 - val_loss: 1.7784 - val_accuracy: 0.3503\n",
            "Epoch 44/50\n",
            "5000/5000 [==============================] - 10s 2ms/step - loss: 1.7216 - accuracy: 0.3715 - val_loss: 1.7773 - val_accuracy: 0.3541\n",
            "Epoch 45/50\n",
            "5000/5000 [==============================] - 10s 2ms/step - loss: 1.7217 - accuracy: 0.3706 - val_loss: 1.7765 - val_accuracy: 0.3535\n",
            "Epoch 46/50\n",
            "5000/5000 [==============================] - 10s 2ms/step - loss: 1.7210 - accuracy: 0.3711 - val_loss: 1.7774 - val_accuracy: 0.3528\n",
            "Epoch 47/50\n",
            "5000/5000 [==============================] - 10s 2ms/step - loss: 1.7216 - accuracy: 0.3708 - val_loss: 1.7771 - val_accuracy: 0.3530\n",
            "Epoch 48/50\n",
            "5000/5000 [==============================] - 10s 2ms/step - loss: 1.7212 - accuracy: 0.3715 - val_loss: 1.7776 - val_accuracy: 0.3552\n",
            "Epoch 49/50\n",
            "5000/5000 [==============================] - 10s 2ms/step - loss: 1.7208 - accuracy: 0.3718 - val_loss: 1.7791 - val_accuracy: 0.3546\n",
            "Epoch 50/50\n",
            "5000/5000 [==============================] - 10s 2ms/step - loss: 1.7198 - accuracy: 0.3716 - val_loss: 1.7786 - val_accuracy: 0.3527\n"
          ],
          "name": "stdout"
        }
      ]
    },
    {
      "cell_type": "code",
      "metadata": {
        "colab": {
          "base_uri": "https://localhost:8080/"
        },
        "id": "cS9DGw9QD_uT",
        "outputId": "b5d34353-f984-4259-960f-c0ccf773ba81"
      },
      "source": [
        "model_2.evaluate(test_data, test_labels)"
      ],
      "execution_count": null,
      "outputs": [
        {
          "output_type": "stream",
          "text": [
            "1250/1250 [==============================] - 2s 1ms/step - loss: 1.7786 - accuracy: 0.3527\n"
          ],
          "name": "stdout"
        },
        {
          "output_type": "execute_result",
          "data": {
            "text/plain": [
              "[1.7785632610321045, 0.3526749908924103]"
            ]
          },
          "metadata": {
            "tags": []
          },
          "execution_count": 78
        }
      ]
    },
    {
      "cell_type": "code",
      "metadata": {
        "id": "Iyl8QzheAqhB",
        "colab": {
          "base_uri": "https://localhost:8080/"
        },
        "outputId": "8182728f-e978-430b-9920-4a8270d784b1"
      },
      "source": [
        "y_prob_classes = model_2.predict(test_data)\n",
        "\n",
        "y_prob_classes[:5], y_prob_classes.shape"
      ],
      "execution_count": null,
      "outputs": [
        {
          "output_type": "execute_result",
          "data": {
            "text/plain": [
              "(array([[0.03787904, 0.12537862, 0.08345295, 0.03524613, 0.01977641,\n",
              "         0.327878  , 0.05515453, 0.18069337, 0.13454098],\n",
              "        [0.0112237 , 0.00867612, 0.00558541, 0.00522091, 0.00173695,\n",
              "         0.84365004, 0.01528922, 0.09297717, 0.01564049],\n",
              "        [0.05443028, 0.18984003, 0.14223635, 0.03580118, 0.01949129,\n",
              "         0.15871708, 0.05234063, 0.15463635, 0.19250678],\n",
              "        [0.04271275, 0.06150195, 0.05055571, 0.0258847 , 0.02147555,\n",
              "         0.2942822 , 0.08887672, 0.293867  , 0.12084351],\n",
              "        [0.05982124, 0.25433627, 0.11462213, 0.04317983, 0.01484986,\n",
              "         0.1942539 , 0.0496124 , 0.12155636, 0.147768  ]], dtype=float32),\n",
              " (40000, 9))"
            ]
          },
          "metadata": {
            "tags": []
          },
          "execution_count": 69
        }
      ]
    },
    {
      "cell_type": "code",
      "metadata": {
        "colab": {
          "base_uri": "https://localhost:8080/"
        },
        "id": "n5KE0ek3R5QE",
        "outputId": "a5a09597-076e-40f2-bf9a-d0c5fc42e47e"
      },
      "source": [
        "# Convert all of the predictions from probabilities to labels\n",
        "y_preds = y_prob_classes.argmax(axis=1)\n",
        "y_preds"
      ],
      "execution_count": null,
      "outputs": [
        {
          "output_type": "execute_result",
          "data": {
            "text/plain": [
              "array([5, 5, 8, ..., 5, 5, 5])"
            ]
          },
          "metadata": {
            "tags": []
          },
          "execution_count": 73
        }
      ]
    },
    {
      "cell_type": "code",
      "metadata": {
        "colab": {
          "base_uri": "https://localhost:8080/"
        },
        "id": "LvTucK0UR5TP",
        "outputId": "8a7fbe6b-82a0-4f76-e2ea-7bb70ff69ea6"
      },
      "source": [
        "model_2.summary()"
      ],
      "execution_count": null,
      "outputs": [
        {
          "output_type": "stream",
          "text": [
            "Model: \"sequential_5\"\n",
            "_________________________________________________________________\n",
            "Layer (type)                 Output Shape              Param #   \n",
            "=================================================================\n",
            "dense_7 (Dense)              (32, 100)                 7500      \n",
            "_________________________________________________________________\n",
            "dropout (Dropout)            (32, 100)                 0         \n",
            "_________________________________________________________________\n",
            "dense_8 (Dense)              (32, 50)                  5050      \n",
            "_________________________________________________________________\n",
            "dense_9 (Dense)              (32, 9)                   459       \n",
            "=================================================================\n",
            "Total params: 13,009\n",
            "Trainable params: 13,009\n",
            "Non-trainable params: 0\n",
            "_________________________________________________________________\n"
          ],
          "name": "stdout"
        }
      ]
    },
    {
      "cell_type": "code",
      "metadata": {
        "id": "CKapd5yhR5W1"
      },
      "source": [
        ""
      ],
      "execution_count": null,
      "outputs": []
    },
    {
      "cell_type": "code",
      "metadata": {
        "id": "5ttJVK9jR5aS"
      },
      "source": [
        ""
      ],
      "execution_count": null,
      "outputs": []
    },
    {
      "cell_type": "markdown",
      "metadata": {
        "id": "UrU5BNr_PdSF"
      },
      "source": [
        "# **Model_3---Adding More Layers**"
      ]
    },
    {
      "cell_type": "code",
      "metadata": {
        "colab": {
          "base_uri": "https://localhost:8080/"
        },
        "id": "sF_oo42OQE-z",
        "outputId": "775fd9bf-2aaa-4ab2-bd64-cfe304c815bf"
      },
      "source": [
        "# Set random seed\n",
        "tf.random.set_seed(42)\n",
        "\n",
        "# Create the model\n",
        "model_3 = tf.keras.Sequential([\n",
        "  tf.keras.layers.Dense(32, activation=\"relu\"),\n",
        "  tf.keras.layers.Dropout(.1),\n",
        "  tf.keras.layers.Dense(64, activation=\"relu\"),\n",
        "  tf.keras.layers.Dropout(.2),\n",
        "  tf.keras.layers.Dense(64, activation=\"relu\"),\n",
        "  tf.keras.layers.Dropout(.5),\n",
        "  tf.keras.layers.Dense(64, activation=\"relu\"),\n",
        "   tf.keras.layers.Dropout(.5),\n",
        "  tf.keras.layers.Dense(32, activation=\"relu\"),\n",
        "  tf.keras.layers.Dropout(.1),\n",
        "  tf.keras.layers.Dense(9, activation=\"softmax\") # output shape is 10, activation is softmax\n",
        "])\n",
        "\n",
        "# Compile the model\n",
        "model_3.compile(loss=tf.keras.losses.SparseCategoricalCrossentropy(), # different loss function for multiclass classifcation\n",
        "                 optimizer=tf.keras.optimizers.Adam(),\n",
        "                 metrics=[\"accuracy\"])\n",
        "\n",
        "\n",
        "# Fit the model\n",
        "norm_history = model_3.fit(train_data,\n",
        "                                train_labels,\n",
        "                                epochs=50,\n",
        "                                validation_data=(test_data, test_labels),) # see how the model performs on the test set during training"
      ],
      "execution_count": null,
      "outputs": [
        {
          "output_type": "stream",
          "text": [
            "Epoch 1/50\n",
            "5000/5000 [==============================] - 12s 2ms/step - loss: 1.8415 - accuracy: 0.3160 - val_loss: 1.7924 - val_accuracy: 0.3470\n",
            "Epoch 2/50\n",
            "5000/5000 [==============================] - 12s 2ms/step - loss: 1.8038 - accuracy: 0.3403 - val_loss: 1.7855 - val_accuracy: 0.3496\n",
            "Epoch 3/50\n",
            "5000/5000 [==============================] - 12s 2ms/step - loss: 1.7965 - accuracy: 0.3427 - val_loss: 1.7804 - val_accuracy: 0.3540\n",
            "Epoch 4/50\n",
            "5000/5000 [==============================] - 12s 2ms/step - loss: 1.7910 - accuracy: 0.3449 - val_loss: 1.7795 - val_accuracy: 0.3535\n",
            "Epoch 5/50\n",
            "5000/5000 [==============================] - 12s 2ms/step - loss: 1.7885 - accuracy: 0.3467 - val_loss: 1.7804 - val_accuracy: 0.3546\n",
            "Epoch 6/50\n",
            "5000/5000 [==============================] - 12s 2ms/step - loss: 1.7861 - accuracy: 0.3471 - val_loss: 1.7772 - val_accuracy: 0.3546\n",
            "Epoch 7/50\n",
            "5000/5000 [==============================] - 12s 2ms/step - loss: 1.7844 - accuracy: 0.3487 - val_loss: 1.7780 - val_accuracy: 0.3545\n",
            "Epoch 8/50\n",
            "5000/5000 [==============================] - 12s 2ms/step - loss: 1.7823 - accuracy: 0.3485 - val_loss: 1.7768 - val_accuracy: 0.3531\n",
            "Epoch 9/50\n",
            "5000/5000 [==============================] - 12s 2ms/step - loss: 1.7816 - accuracy: 0.3499 - val_loss: 1.7806 - val_accuracy: 0.3526\n",
            "Epoch 10/50\n",
            "5000/5000 [==============================] - 12s 2ms/step - loss: 1.7804 - accuracy: 0.3489 - val_loss: 1.7766 - val_accuracy: 0.3526\n",
            "Epoch 11/50\n",
            "5000/5000 [==============================] - 12s 2ms/step - loss: 1.7799 - accuracy: 0.3489 - val_loss: 1.7737 - val_accuracy: 0.3543\n",
            "Epoch 12/50\n",
            "5000/5000 [==============================] - 12s 2ms/step - loss: 1.7793 - accuracy: 0.3496 - val_loss: 1.7775 - val_accuracy: 0.3548\n",
            "Epoch 13/50\n",
            "5000/5000 [==============================] - 12s 2ms/step - loss: 1.7781 - accuracy: 0.3507 - val_loss: 1.7764 - val_accuracy: 0.3501\n",
            "Epoch 14/50\n",
            "5000/5000 [==============================] - 12s 2ms/step - loss: 1.7772 - accuracy: 0.3499 - val_loss: 1.7732 - val_accuracy: 0.3528\n",
            "Epoch 15/50\n",
            "5000/5000 [==============================] - 12s 2ms/step - loss: 1.7763 - accuracy: 0.3513 - val_loss: 1.7717 - val_accuracy: 0.3555\n",
            "Epoch 16/50\n",
            "5000/5000 [==============================] - 12s 2ms/step - loss: 1.7766 - accuracy: 0.3509 - val_loss: 1.7720 - val_accuracy: 0.3557\n",
            "Epoch 17/50\n",
            "5000/5000 [==============================] - 12s 2ms/step - loss: 1.7753 - accuracy: 0.3503 - val_loss: 1.7730 - val_accuracy: 0.3541\n",
            "Epoch 18/50\n",
            "5000/5000 [==============================] - 12s 2ms/step - loss: 1.7751 - accuracy: 0.3503 - val_loss: 1.7714 - val_accuracy: 0.3555\n",
            "Epoch 19/50\n",
            "5000/5000 [==============================] - 12s 2ms/step - loss: 1.7746 - accuracy: 0.3515 - val_loss: 1.7740 - val_accuracy: 0.3507\n",
            "Epoch 20/50\n",
            "5000/5000 [==============================] - 12s 2ms/step - loss: 1.7741 - accuracy: 0.3515 - val_loss: 1.7751 - val_accuracy: 0.3554\n",
            "Epoch 21/50\n",
            "5000/5000 [==============================] - 12s 2ms/step - loss: 1.7740 - accuracy: 0.3505 - val_loss: 1.7725 - val_accuracy: 0.3537\n",
            "Epoch 22/50\n",
            "5000/5000 [==============================] - 12s 2ms/step - loss: 1.7740 - accuracy: 0.3516 - val_loss: 1.7748 - val_accuracy: 0.3494\n",
            "Epoch 23/50\n",
            "5000/5000 [==============================] - 12s 2ms/step - loss: 1.7734 - accuracy: 0.3506 - val_loss: 1.7739 - val_accuracy: 0.3535\n",
            "Epoch 24/50\n",
            "5000/5000 [==============================] - 12s 2ms/step - loss: 1.7735 - accuracy: 0.3530 - val_loss: 1.7737 - val_accuracy: 0.3548\n",
            "Epoch 25/50\n",
            "5000/5000 [==============================] - 12s 2ms/step - loss: 1.7728 - accuracy: 0.3525 - val_loss: 1.7727 - val_accuracy: 0.3550\n",
            "Epoch 26/50\n",
            "5000/5000 [==============================] - 12s 2ms/step - loss: 1.7721 - accuracy: 0.3528 - val_loss: 1.7736 - val_accuracy: 0.3543\n",
            "Epoch 27/50\n",
            "5000/5000 [==============================] - 12s 2ms/step - loss: 1.7722 - accuracy: 0.3528 - val_loss: 1.7765 - val_accuracy: 0.3541\n",
            "Epoch 28/50\n",
            "5000/5000 [==============================] - 12s 2ms/step - loss: 1.7725 - accuracy: 0.3519 - val_loss: 1.7736 - val_accuracy: 0.3545\n",
            "Epoch 29/50\n",
            "5000/5000 [==============================] - 12s 2ms/step - loss: 1.7716 - accuracy: 0.3535 - val_loss: 1.7732 - val_accuracy: 0.3556\n",
            "Epoch 30/50\n",
            "5000/5000 [==============================] - 12s 2ms/step - loss: 1.7713 - accuracy: 0.3529 - val_loss: 1.7741 - val_accuracy: 0.3531\n",
            "Epoch 31/50\n",
            "5000/5000 [==============================] - 12s 2ms/step - loss: 1.7715 - accuracy: 0.3529 - val_loss: 1.7733 - val_accuracy: 0.3569\n",
            "Epoch 32/50\n",
            "5000/5000 [==============================] - 12s 2ms/step - loss: 1.7710 - accuracy: 0.3521 - val_loss: 1.7760 - val_accuracy: 0.3553\n",
            "Epoch 33/50\n",
            "5000/5000 [==============================] - 12s 2ms/step - loss: 1.7719 - accuracy: 0.3536 - val_loss: 1.7749 - val_accuracy: 0.3566\n",
            "Epoch 34/50\n",
            "5000/5000 [==============================] - 12s 2ms/step - loss: 1.7714 - accuracy: 0.3533 - val_loss: 1.7724 - val_accuracy: 0.3553\n",
            "Epoch 35/50\n",
            "5000/5000 [==============================] - 12s 2ms/step - loss: 1.7710 - accuracy: 0.3534 - val_loss: 1.7712 - val_accuracy: 0.3584\n",
            "Epoch 36/50\n",
            "5000/5000 [==============================] - 12s 2ms/step - loss: 1.7705 - accuracy: 0.3532 - val_loss: 1.7708 - val_accuracy: 0.3550\n",
            "Epoch 37/50\n",
            "5000/5000 [==============================] - 12s 2ms/step - loss: 1.7707 - accuracy: 0.3534 - val_loss: 1.7759 - val_accuracy: 0.3550\n",
            "Epoch 38/50\n",
            "5000/5000 [==============================] - 12s 2ms/step - loss: 1.7709 - accuracy: 0.3536 - val_loss: 1.7714 - val_accuracy: 0.3562\n",
            "Epoch 39/50\n",
            "5000/5000 [==============================] - 12s 2ms/step - loss: 1.7707 - accuracy: 0.3528 - val_loss: 1.7725 - val_accuracy: 0.3550\n",
            "Epoch 40/50\n",
            "5000/5000 [==============================] - 12s 2ms/step - loss: 1.7703 - accuracy: 0.3531 - val_loss: 1.7706 - val_accuracy: 0.3569\n",
            "Epoch 41/50\n",
            "5000/5000 [==============================] - 12s 2ms/step - loss: 1.7704 - accuracy: 0.3528 - val_loss: 1.7754 - val_accuracy: 0.3559\n",
            "Epoch 42/50\n",
            "5000/5000 [==============================] - 12s 2ms/step - loss: 1.7700 - accuracy: 0.3528 - val_loss: 1.7733 - val_accuracy: 0.3544\n",
            "Epoch 43/50\n",
            "5000/5000 [==============================] - 12s 2ms/step - loss: 1.7696 - accuracy: 0.3531 - val_loss: 1.7725 - val_accuracy: 0.3571\n",
            "Epoch 44/50\n",
            "5000/5000 [==============================] - 12s 2ms/step - loss: 1.7694 - accuracy: 0.3538 - val_loss: 1.7767 - val_accuracy: 0.3537\n",
            "Epoch 45/50\n",
            "5000/5000 [==============================] - 12s 2ms/step - loss: 1.7701 - accuracy: 0.3540 - val_loss: 1.7726 - val_accuracy: 0.3545\n",
            "Epoch 46/50\n",
            "5000/5000 [==============================] - 12s 2ms/step - loss: 1.7702 - accuracy: 0.3524 - val_loss: 1.7735 - val_accuracy: 0.3562\n",
            "Epoch 47/50\n",
            "5000/5000 [==============================] - 12s 2ms/step - loss: 1.7693 - accuracy: 0.3535 - val_loss: 1.7749 - val_accuracy: 0.3527\n",
            "Epoch 48/50\n",
            "5000/5000 [==============================] - 12s 2ms/step - loss: 1.7695 - accuracy: 0.3538 - val_loss: 1.7728 - val_accuracy: 0.3558\n",
            "Epoch 49/50\n",
            "5000/5000 [==============================] - 12s 2ms/step - loss: 1.7691 - accuracy: 0.3524 - val_loss: 1.7738 - val_accuracy: 0.3534\n",
            "Epoch 50/50\n",
            "5000/5000 [==============================] - 12s 2ms/step - loss: 1.7690 - accuracy: 0.3547 - val_loss: 1.7757 - val_accuracy: 0.3546\n"
          ],
          "name": "stdout"
        }
      ]
    },
    {
      "cell_type": "code",
      "metadata": {
        "colab": {
          "base_uri": "https://localhost:8080/"
        },
        "id": "rJ-RvPlQWEr9",
        "outputId": "74eca7b8-1fa7-40ac-d96e-0f30e04657da"
      },
      "source": [
        "model_3.summary()"
      ],
      "execution_count": null,
      "outputs": [
        {
          "output_type": "stream",
          "text": [
            "Model: \"sequential_6\"\n",
            "_________________________________________________________________\n",
            "Layer (type)                 Output Shape              Param #   \n",
            "=================================================================\n",
            "dense_10 (Dense)             (32, 32)                  2400      \n",
            "_________________________________________________________________\n",
            "dropout_1 (Dropout)          (32, 32)                  0         \n",
            "_________________________________________________________________\n",
            "dense_11 (Dense)             (32, 64)                  2112      \n",
            "_________________________________________________________________\n",
            "dropout_2 (Dropout)          (32, 64)                  0         \n",
            "_________________________________________________________________\n",
            "dense_12 (Dense)             (32, 64)                  4160      \n",
            "_________________________________________________________________\n",
            "dropout_3 (Dropout)          (32, 64)                  0         \n",
            "_________________________________________________________________\n",
            "dense_13 (Dense)             (32, 64)                  4160      \n",
            "_________________________________________________________________\n",
            "dropout_4 (Dropout)          (32, 64)                  0         \n",
            "_________________________________________________________________\n",
            "dense_14 (Dense)             (32, 32)                  2080      \n",
            "_________________________________________________________________\n",
            "dropout_5 (Dropout)          (32, 32)                  0         \n",
            "_________________________________________________________________\n",
            "dense_15 (Dense)             (32, 9)                   297       \n",
            "=================================================================\n",
            "Total params: 15,209\n",
            "Trainable params: 15,209\n",
            "Non-trainable params: 0\n",
            "_________________________________________________________________\n"
          ],
          "name": "stdout"
        }
      ]
    },
    {
      "cell_type": "code",
      "metadata": {
        "colab": {
          "base_uri": "https://localhost:8080/"
        },
        "id": "CSy8M6XPWEvU",
        "outputId": "261ba65b-42fe-4b2b-d92a-33b17b760f3c"
      },
      "source": [
        "model_3.evaluate(test_data, test_labels)"
      ],
      "execution_count": null,
      "outputs": [
        {
          "output_type": "stream",
          "text": [
            "1250/1250 [==============================] - 2s 1ms/step - loss: 1.7757 - accuracy: 0.3546\n"
          ],
          "name": "stdout"
        },
        {
          "output_type": "execute_result",
          "data": {
            "text/plain": [
              "[1.775678277015686, 0.3546000123023987]"
            ]
          },
          "metadata": {
            "tags": []
          },
          "execution_count": 83
        }
      ]
    },
    {
      "cell_type": "code",
      "metadata": {
        "colab": {
          "base_uri": "https://localhost:8080/"
        },
        "id": "L9dt2cgeWFDd",
        "outputId": "ab49e9bc-e034-4ad5-865e-f38f0dc48357"
      },
      "source": [
        "x_3 = model_3.predict(X_test_final_norm)\n",
        "x_3[0]"
      ],
      "execution_count": null,
      "outputs": [
        {
          "output_type": "execute_result",
          "data": {
            "text/plain": [
              "array([0.06137218, 0.30788264, 0.1595459 , 0.0350461 , 0.01807284,\n",
              "       0.16712213, 0.0338959 , 0.08708695, 0.12997532], dtype=float32)"
            ]
          },
          "metadata": {
            "tags": []
          },
          "execution_count": 84
        }
      ]
    },
    {
      "cell_type": "code",
      "metadata": {
        "colab": {
          "base_uri": "https://localhost:8080/",
          "height": 195
        },
        "id": "z4vRNpyxZhzD",
        "outputId": "08b3d58e-db3f-4c1e-8401-b7d8ea815832"
      },
      "source": [
        "ss.iloc[:,1:10] = x\n",
        "ss.head()"
      ],
      "execution_count": null,
      "outputs": [
        {
          "output_type": "execute_result",
          "data": {
            "text/html": [
              "<div>\n",
              "<style scoped>\n",
              "    .dataframe tbody tr th:only-of-type {\n",
              "        vertical-align: middle;\n",
              "    }\n",
              "\n",
              "    .dataframe tbody tr th {\n",
              "        vertical-align: top;\n",
              "    }\n",
              "\n",
              "    .dataframe thead th {\n",
              "        text-align: right;\n",
              "    }\n",
              "</style>\n",
              "<table border=\"1\" class=\"dataframe\">\n",
              "  <thead>\n",
              "    <tr style=\"text-align: right;\">\n",
              "      <th></th>\n",
              "      <th>id</th>\n",
              "      <th>Class_1</th>\n",
              "      <th>Class_2</th>\n",
              "      <th>Class_3</th>\n",
              "      <th>Class_4</th>\n",
              "      <th>Class_5</th>\n",
              "      <th>Class_6</th>\n",
              "      <th>Class_7</th>\n",
              "      <th>Class_8</th>\n",
              "      <th>Class_9</th>\n",
              "    </tr>\n",
              "  </thead>\n",
              "  <tbody>\n",
              "    <tr>\n",
              "      <th>0</th>\n",
              "      <td>200000</td>\n",
              "      <td>0.053002</td>\n",
              "      <td>0.092731</td>\n",
              "      <td>0.058324</td>\n",
              "      <td>0.035122</td>\n",
              "      <td>0.005116</td>\n",
              "      <td>0.314278</td>\n",
              "      <td>0.056608</td>\n",
              "      <td>0.251165</td>\n",
              "      <td>0.133654</td>\n",
              "    </tr>\n",
              "    <tr>\n",
              "      <th>1</th>\n",
              "      <td>200001</td>\n",
              "      <td>0.053002</td>\n",
              "      <td>0.092731</td>\n",
              "      <td>0.058324</td>\n",
              "      <td>0.035122</td>\n",
              "      <td>0.005116</td>\n",
              "      <td>0.314278</td>\n",
              "      <td>0.056608</td>\n",
              "      <td>0.251165</td>\n",
              "      <td>0.133654</td>\n",
              "    </tr>\n",
              "    <tr>\n",
              "      <th>2</th>\n",
              "      <td>200002</td>\n",
              "      <td>0.053002</td>\n",
              "      <td>0.092731</td>\n",
              "      <td>0.058324</td>\n",
              "      <td>0.035122</td>\n",
              "      <td>0.005116</td>\n",
              "      <td>0.314278</td>\n",
              "      <td>0.056608</td>\n",
              "      <td>0.251165</td>\n",
              "      <td>0.133654</td>\n",
              "    </tr>\n",
              "    <tr>\n",
              "      <th>3</th>\n",
              "      <td>200003</td>\n",
              "      <td>0.053002</td>\n",
              "      <td>0.092731</td>\n",
              "      <td>0.058324</td>\n",
              "      <td>0.035122</td>\n",
              "      <td>0.005116</td>\n",
              "      <td>0.314278</td>\n",
              "      <td>0.056608</td>\n",
              "      <td>0.251165</td>\n",
              "      <td>0.133654</td>\n",
              "    </tr>\n",
              "    <tr>\n",
              "      <th>4</th>\n",
              "      <td>200004</td>\n",
              "      <td>0.053002</td>\n",
              "      <td>0.092731</td>\n",
              "      <td>0.058324</td>\n",
              "      <td>0.035122</td>\n",
              "      <td>0.005116</td>\n",
              "      <td>0.314278</td>\n",
              "      <td>0.056608</td>\n",
              "      <td>0.251165</td>\n",
              "      <td>0.133654</td>\n",
              "    </tr>\n",
              "  </tbody>\n",
              "</table>\n",
              "</div>"
            ],
            "text/plain": [
              "       id   Class_1   Class_2   Class_3  ...   Class_6   Class_7   Class_8   Class_9\n",
              "0  200000  0.053002  0.092731  0.058324  ...  0.314278  0.056608  0.251165  0.133654\n",
              "1  200001  0.053002  0.092731  0.058324  ...  0.314278  0.056608  0.251165  0.133654\n",
              "2  200002  0.053002  0.092731  0.058324  ...  0.314278  0.056608  0.251165  0.133654\n",
              "3  200003  0.053002  0.092731  0.058324  ...  0.314278  0.056608  0.251165  0.133654\n",
              "4  200004  0.053002  0.092731  0.058324  ...  0.314278  0.056608  0.251165  0.133654\n",
              "\n",
              "[5 rows x 10 columns]"
            ]
          },
          "metadata": {
            "tags": []
          },
          "execution_count": 85
        }
      ]
    },
    {
      "cell_type": "code",
      "metadata": {
        "colab": {
          "base_uri": "https://localhost:8080/",
          "height": 17
        },
        "id": "Tle25WdHZpmG",
        "outputId": "0b4f6499-31fd-4287-b419-a94350b443eb"
      },
      "source": [
        "from google.colab import files\n",
        "import pandas as pd\n",
        "ss.to_csv('sample_submission_3.csv')\n",
        "files.download('sample_submission_3.csv')"
      ],
      "execution_count": null,
      "outputs": [
        {
          "output_type": "display_data",
          "data": {
            "application/javascript": [
              "\n",
              "    async function download(id, filename, size) {\n",
              "      if (!google.colab.kernel.accessAllowed) {\n",
              "        return;\n",
              "      }\n",
              "      const div = document.createElement('div');\n",
              "      const label = document.createElement('label');\n",
              "      label.textContent = `Downloading \"${filename}\": `;\n",
              "      div.appendChild(label);\n",
              "      const progress = document.createElement('progress');\n",
              "      progress.max = size;\n",
              "      div.appendChild(progress);\n",
              "      document.body.appendChild(div);\n",
              "\n",
              "      const buffers = [];\n",
              "      let downloaded = 0;\n",
              "\n",
              "      const channel = await google.colab.kernel.comms.open(id);\n",
              "      // Send a message to notify the kernel that we're ready.\n",
              "      channel.send({})\n",
              "\n",
              "      for await (const message of channel.messages) {\n",
              "        // Send a message to notify the kernel that we're ready.\n",
              "        channel.send({})\n",
              "        if (message.buffers) {\n",
              "          for (const buffer of message.buffers) {\n",
              "            buffers.push(buffer);\n",
              "            downloaded += buffer.byteLength;\n",
              "            progress.value = downloaded;\n",
              "          }\n",
              "        }\n",
              "      }\n",
              "      const blob = new Blob(buffers, {type: 'application/binary'});\n",
              "      const a = document.createElement('a');\n",
              "      a.href = window.URL.createObjectURL(blob);\n",
              "      a.download = filename;\n",
              "      div.appendChild(a);\n",
              "      a.click();\n",
              "      div.remove();\n",
              "    }\n",
              "  "
            ],
            "text/plain": [
              "<IPython.core.display.Javascript object>"
            ]
          },
          "metadata": {
            "tags": []
          }
        },
        {
          "output_type": "display_data",
          "data": {
            "application/javascript": [
              "download(\"download_17118808-7cba-4240-b963-f9ad2bc4a3e8\", \"sample_submission_3.csv\", 19388969)"
            ],
            "text/plain": [
              "<IPython.core.display.Javascript object>"
            ]
          },
          "metadata": {
            "tags": []
          }
        }
      ]
    },
    {
      "cell_type": "markdown",
      "metadata": {
        "id": "lmDdo6ZOWGKr"
      },
      "source": [
        "# **Model_4**"
      ]
    },
    {
      "cell_type": "code",
      "metadata": {
        "colab": {
          "base_uri": "https://localhost:8080/"
        },
        "id": "V8OGfA-qa6ge",
        "outputId": "a11a6b95-18de-4fbd-ad3a-9d0f858e3b80"
      },
      "source": [
        "# Set random seed\n",
        "tf.random.set_seed(42)\n",
        "\n",
        "# Create the model\n",
        "model_4 = tf.keras.Sequential([\n",
        "  tf.keras.layers.Dense(32, activation=\"relu\"),\n",
        "  tf.keras.layers.Dropout(.1),\n",
        "  tf.keras.layers.Dense(64, activation=\"relu\"),\n",
        "  tf.keras.layers.Dense(64, activation=\"relu\"),\n",
        "  tf.keras.layers.Dropout(.2),\n",
        "  tf.keras.layers.Dense(64, activation=\"relu\"),\n",
        "  tf.keras.layers.Dense(64, activation=\"relu\"),\n",
        "  tf.keras.layers.Dropout(.4),\n",
        "  tf.keras.layers.Dense(64, activation=\"relu\"),\n",
        "  tf.keras.layers.Dense(64, activation=\"relu\"),\n",
        "   tf.keras.layers.Dropout(.4),\n",
        "  tf.keras.layers.Dense(32, activation=\"relu\"),\n",
        "  tf.keras.layers.Dropout(.1),\n",
        "  tf.keras.layers.Dense(9, activation=\"softmax\") # output shape is 10, activation is softmax\n",
        "])\n",
        "\n",
        "# Compile the model\n",
        "model_4.compile(loss=tf.keras.losses.SparseCategoricalCrossentropy(), # different loss function for multiclass classifcation\n",
        "                 optimizer=tf.keras.optimizers.Adam(learning_rate=0.001),\n",
        "                 metrics=[\"accuracy\"])\n",
        "\n",
        "\n",
        "# Fit the model\n",
        "norm_history = model_4.fit(train_data,\n",
        "                                train_labels,\n",
        "                                epochs=50,\n",
        "                                validation_data=(test_data, test_labels),) # see how the model performs on the test set during training"
      ],
      "execution_count": null,
      "outputs": [
        {
          "output_type": "stream",
          "text": [
            "Epoch 1/50\n",
            "5000/5000 [==============================] - 14s 3ms/step - loss: 1.8340 - accuracy: 0.3202 - val_loss: 1.7921 - val_accuracy: 0.3463\n",
            "Epoch 2/50\n",
            "5000/5000 [==============================] - 14s 3ms/step - loss: 1.7992 - accuracy: 0.3419 - val_loss: 1.7916 - val_accuracy: 0.3486\n",
            "Epoch 3/50\n",
            "5000/5000 [==============================] - 13s 3ms/step - loss: 1.7927 - accuracy: 0.3436 - val_loss: 1.7817 - val_accuracy: 0.3466\n",
            "Epoch 4/50\n",
            "5000/5000 [==============================] - 13s 3ms/step - loss: 1.7887 - accuracy: 0.3455 - val_loss: 1.7817 - val_accuracy: 0.3483\n",
            "Epoch 5/50\n",
            "5000/5000 [==============================] - 14s 3ms/step - loss: 1.7865 - accuracy: 0.3461 - val_loss: 1.7820 - val_accuracy: 0.3528\n",
            "Epoch 6/50\n",
            "5000/5000 [==============================] - 14s 3ms/step - loss: 1.7839 - accuracy: 0.3482 - val_loss: 1.7775 - val_accuracy: 0.3515\n",
            "Epoch 7/50\n",
            "5000/5000 [==============================] - 15s 3ms/step - loss: 1.7814 - accuracy: 0.3490 - val_loss: 1.7794 - val_accuracy: 0.3550\n",
            "Epoch 8/50\n",
            "5000/5000 [==============================] - 14s 3ms/step - loss: 1.7797 - accuracy: 0.3502 - val_loss: 1.7841 - val_accuracy: 0.3499\n",
            "Epoch 9/50\n",
            "5000/5000 [==============================] - 13s 3ms/step - loss: 1.7787 - accuracy: 0.3499 - val_loss: 1.7852 - val_accuracy: 0.3507\n",
            "Epoch 10/50\n",
            "5000/5000 [==============================] - 14s 3ms/step - loss: 1.7780 - accuracy: 0.3494 - val_loss: 1.7766 - val_accuracy: 0.3532\n",
            "Epoch 11/50\n",
            "5000/5000 [==============================] - 13s 3ms/step - loss: 1.7774 - accuracy: 0.3497 - val_loss: 1.7769 - val_accuracy: 0.3522\n",
            "Epoch 12/50\n",
            "5000/5000 [==============================] - 13s 3ms/step - loss: 1.7768 - accuracy: 0.3508 - val_loss: 1.7772 - val_accuracy: 0.3535\n",
            "Epoch 13/50\n",
            "5000/5000 [==============================] - 13s 3ms/step - loss: 1.7758 - accuracy: 0.3508 - val_loss: 1.7765 - val_accuracy: 0.3549\n",
            "Epoch 14/50\n",
            "5000/5000 [==============================] - 13s 3ms/step - loss: 1.7752 - accuracy: 0.3499 - val_loss: 1.7771 - val_accuracy: 0.3549\n",
            "Epoch 15/50\n",
            "5000/5000 [==============================] - 13s 3ms/step - loss: 1.7741 - accuracy: 0.3521 - val_loss: 1.7780 - val_accuracy: 0.3537\n",
            "Epoch 16/50\n",
            "5000/5000 [==============================] - 13s 3ms/step - loss: 1.7729 - accuracy: 0.3515 - val_loss: 1.7744 - val_accuracy: 0.3544\n",
            "Epoch 17/50\n",
            "5000/5000 [==============================] - 15s 3ms/step - loss: 1.7736 - accuracy: 0.3504 - val_loss: 1.7749 - val_accuracy: 0.3485\n",
            "Epoch 18/50\n",
            "5000/5000 [==============================] - 15s 3ms/step - loss: 1.7736 - accuracy: 0.3513 - val_loss: 1.7751 - val_accuracy: 0.3539\n",
            "Epoch 19/50\n",
            "5000/5000 [==============================] - 13s 3ms/step - loss: 1.7730 - accuracy: 0.3520 - val_loss: 1.7779 - val_accuracy: 0.3509\n",
            "Epoch 20/50\n",
            "5000/5000 [==============================] - 14s 3ms/step - loss: 1.7730 - accuracy: 0.3516 - val_loss: 1.7744 - val_accuracy: 0.3559\n",
            "Epoch 21/50\n",
            "5000/5000 [==============================] - 14s 3ms/step - loss: 1.7713 - accuracy: 0.3518 - val_loss: 1.7734 - val_accuracy: 0.3545\n",
            "Epoch 22/50\n",
            "5000/5000 [==============================] - 13s 3ms/step - loss: 1.7722 - accuracy: 0.3502 - val_loss: 1.7741 - val_accuracy: 0.3521\n",
            "Epoch 23/50\n",
            "5000/5000 [==============================] - 13s 3ms/step - loss: 1.7709 - accuracy: 0.3525 - val_loss: 1.7754 - val_accuracy: 0.3523\n",
            "Epoch 24/50\n",
            "5000/5000 [==============================] - 14s 3ms/step - loss: 1.7712 - accuracy: 0.3516 - val_loss: 1.7750 - val_accuracy: 0.3508\n",
            "Epoch 25/50\n",
            "5000/5000 [==============================] - 13s 3ms/step - loss: 1.7707 - accuracy: 0.3527 - val_loss: 1.7761 - val_accuracy: 0.3504\n",
            "Epoch 26/50\n",
            "5000/5000 [==============================] - 13s 3ms/step - loss: 1.7702 - accuracy: 0.3530 - val_loss: 1.7752 - val_accuracy: 0.3547\n",
            "Epoch 27/50\n",
            "5000/5000 [==============================] - 14s 3ms/step - loss: 1.7706 - accuracy: 0.3521 - val_loss: 1.7780 - val_accuracy: 0.3542\n",
            "Epoch 28/50\n",
            "5000/5000 [==============================] - 13s 3ms/step - loss: 1.7706 - accuracy: 0.3519 - val_loss: 1.7775 - val_accuracy: 0.3533\n",
            "Epoch 29/50\n",
            "5000/5000 [==============================] - 15s 3ms/step - loss: 1.7693 - accuracy: 0.3518 - val_loss: 1.7777 - val_accuracy: 0.3521\n",
            "Epoch 30/50\n",
            "5000/5000 [==============================] - 14s 3ms/step - loss: 1.7691 - accuracy: 0.3532 - val_loss: 1.7760 - val_accuracy: 0.3533\n",
            "Epoch 31/50\n",
            "5000/5000 [==============================] - 14s 3ms/step - loss: 1.7700 - accuracy: 0.3528 - val_loss: 1.7786 - val_accuracy: 0.3530\n",
            "Epoch 32/50\n",
            "5000/5000 [==============================] - 14s 3ms/step - loss: 1.7690 - accuracy: 0.3536 - val_loss: 1.7783 - val_accuracy: 0.3522\n",
            "Epoch 33/50\n",
            "5000/5000 [==============================] - 13s 3ms/step - loss: 1.7692 - accuracy: 0.3527 - val_loss: 1.7776 - val_accuracy: 0.3532\n",
            "Epoch 34/50\n",
            "5000/5000 [==============================] - 13s 3ms/step - loss: 1.7689 - accuracy: 0.3522 - val_loss: 1.7773 - val_accuracy: 0.3517\n",
            "Epoch 35/50\n",
            "5000/5000 [==============================] - 14s 3ms/step - loss: 1.7682 - accuracy: 0.3522 - val_loss: 1.7744 - val_accuracy: 0.3544\n",
            "Epoch 36/50\n",
            "5000/5000 [==============================] - 14s 3ms/step - loss: 1.7691 - accuracy: 0.3535 - val_loss: 1.7794 - val_accuracy: 0.3507\n",
            "Epoch 37/50\n",
            "5000/5000 [==============================] - 14s 3ms/step - loss: 1.7683 - accuracy: 0.3539 - val_loss: 1.7787 - val_accuracy: 0.3537\n",
            "Epoch 38/50\n",
            "5000/5000 [==============================] - 13s 3ms/step - loss: 1.7683 - accuracy: 0.3525 - val_loss: 1.7737 - val_accuracy: 0.3486\n",
            "Epoch 39/50\n",
            "5000/5000 [==============================] - 14s 3ms/step - loss: 1.7687 - accuracy: 0.3519 - val_loss: 1.7771 - val_accuracy: 0.3518\n",
            "Epoch 40/50\n",
            "5000/5000 [==============================] - 15s 3ms/step - loss: 1.7683 - accuracy: 0.3530 - val_loss: 1.7757 - val_accuracy: 0.3546\n",
            "Epoch 41/50\n",
            "5000/5000 [==============================] - 13s 3ms/step - loss: 1.7680 - accuracy: 0.3540 - val_loss: 1.7788 - val_accuracy: 0.3527\n",
            "Epoch 42/50\n",
            "5000/5000 [==============================] - 13s 3ms/step - loss: 1.7678 - accuracy: 0.3534 - val_loss: 1.7758 - val_accuracy: 0.3491\n",
            "Epoch 43/50\n",
            "5000/5000 [==============================] - 13s 3ms/step - loss: 1.7680 - accuracy: 0.3535 - val_loss: 1.7743 - val_accuracy: 0.3540\n",
            "Epoch 44/50\n",
            "5000/5000 [==============================] - 13s 3ms/step - loss: 1.7678 - accuracy: 0.3535 - val_loss: 1.7785 - val_accuracy: 0.3550\n",
            "Epoch 45/50\n",
            "5000/5000 [==============================] - 13s 3ms/step - loss: 1.7673 - accuracy: 0.3527 - val_loss: 1.7762 - val_accuracy: 0.3562\n",
            "Epoch 46/50\n",
            "5000/5000 [==============================] - 13s 3ms/step - loss: 1.7672 - accuracy: 0.3536 - val_loss: 1.7793 - val_accuracy: 0.3529\n",
            "Epoch 47/50\n",
            "5000/5000 [==============================] - 13s 3ms/step - loss: 1.7669 - accuracy: 0.3530 - val_loss: 1.7800 - val_accuracy: 0.3505\n",
            "Epoch 48/50\n",
            "5000/5000 [==============================] - 13s 3ms/step - loss: 1.7667 - accuracy: 0.3528 - val_loss: 1.7796 - val_accuracy: 0.3530\n",
            "Epoch 49/50\n",
            "5000/5000 [==============================] - 13s 3ms/step - loss: 1.7666 - accuracy: 0.3537 - val_loss: 1.7803 - val_accuracy: 0.3525\n",
            "Epoch 50/50\n",
            "5000/5000 [==============================] - 13s 3ms/step - loss: 1.7680 - accuracy: 0.3526 - val_loss: 1.7770 - val_accuracy: 0.3528\n"
          ],
          "name": "stdout"
        }
      ]
    },
    {
      "cell_type": "code",
      "metadata": {
        "colab": {
          "base_uri": "https://localhost:8080/"
        },
        "id": "9bnQeLfXbTK1",
        "outputId": "bdc51358-77f0-4edf-cdc0-582a17fe1081"
      },
      "source": [
        "model_4.evaluate(test_data, test_labels)"
      ],
      "execution_count": null,
      "outputs": [
        {
          "output_type": "stream",
          "text": [
            "1250/1250 [==============================] - 2s 2ms/step - loss: 1.7770 - accuracy: 0.3528\n"
          ],
          "name": "stdout"
        },
        {
          "output_type": "execute_result",
          "data": {
            "text/plain": [
              "[1.776987075805664, 0.35282498598098755]"
            ]
          },
          "metadata": {
            "tags": []
          },
          "execution_count": 90
        }
      ]
    },
    {
      "cell_type": "code",
      "metadata": {
        "colab": {
          "base_uri": "https://localhost:8080/"
        },
        "id": "G99GPVm5baT1",
        "outputId": "bc2440eb-d14f-4a83-c854-ce6d5895364a"
      },
      "source": [
        "model_4.summary()"
      ],
      "execution_count": null,
      "outputs": [
        {
          "output_type": "stream",
          "text": [
            "Model: \"sequential_9\"\n",
            "_________________________________________________________________\n",
            "Layer (type)                 Output Shape              Param #   \n",
            "=================================================================\n",
            "dense_31 (Dense)             (32, 32)                  2400      \n",
            "_________________________________________________________________\n",
            "dropout_16 (Dropout)         (32, 32)                  0         \n",
            "_________________________________________________________________\n",
            "dense_32 (Dense)             (32, 64)                  2112      \n",
            "_________________________________________________________________\n",
            "dense_33 (Dense)             (32, 64)                  4160      \n",
            "_________________________________________________________________\n",
            "dropout_17 (Dropout)         (32, 64)                  0         \n",
            "_________________________________________________________________\n",
            "dense_34 (Dense)             (32, 64)                  4160      \n",
            "_________________________________________________________________\n",
            "dense_35 (Dense)             (32, 64)                  4160      \n",
            "_________________________________________________________________\n",
            "dropout_18 (Dropout)         (32, 64)                  0         \n",
            "_________________________________________________________________\n",
            "dense_36 (Dense)             (32, 64)                  4160      \n",
            "_________________________________________________________________\n",
            "dense_37 (Dense)             (32, 64)                  4160      \n",
            "_________________________________________________________________\n",
            "dropout_19 (Dropout)         (32, 64)                  0         \n",
            "_________________________________________________________________\n",
            "dense_38 (Dense)             (32, 32)                  2080      \n",
            "_________________________________________________________________\n",
            "dropout_20 (Dropout)         (32, 32)                  0         \n",
            "_________________________________________________________________\n",
            "dense_39 (Dense)             (32, 9)                   297       \n",
            "=================================================================\n",
            "Total params: 27,689\n",
            "Trainable params: 27,689\n",
            "Non-trainable params: 0\n",
            "_________________________________________________________________\n"
          ],
          "name": "stdout"
        }
      ]
    },
    {
      "cell_type": "markdown",
      "metadata": {
        "id": "6FlJMmp5cWKY"
      },
      "source": [
        "# **Model_5--Without Preprocessing**"
      ]
    },
    {
      "cell_type": "code",
      "metadata": {
        "colab": {
          "base_uri": "https://localhost:8080/"
        },
        "id": "BaviyE0PcY-n",
        "outputId": "c05c471e-fffd-43c5-ea82-9ca47582d36d"
      },
      "source": [
        "X_train.shape"
      ],
      "execution_count": null,
      "outputs": [
        {
          "output_type": "execute_result",
          "data": {
            "text/plain": [
              "(160000, 75)"
            ]
          },
          "metadata": {
            "tags": []
          },
          "execution_count": 93
        }
      ]
    },
    {
      "cell_type": "code",
      "metadata": {
        "colab": {
          "base_uri": "https://localhost:8080/",
          "height": 422
        },
        "id": "CbzHOeVZgiWI",
        "outputId": "0baa0fd0-f1ec-4671-c70b-441681d0bb8a"
      },
      "source": [
        "X_train"
      ],
      "execution_count": null,
      "outputs": [
        {
          "output_type": "execute_result",
          "data": {
            "text/html": [
              "<div>\n",
              "<style scoped>\n",
              "    .dataframe tbody tr th:only-of-type {\n",
              "        vertical-align: middle;\n",
              "    }\n",
              "\n",
              "    .dataframe tbody tr th {\n",
              "        vertical-align: top;\n",
              "    }\n",
              "\n",
              "    .dataframe thead th {\n",
              "        text-align: right;\n",
              "    }\n",
              "</style>\n",
              "<table border=\"1\" class=\"dataframe\">\n",
              "  <thead>\n",
              "    <tr style=\"text-align: right;\">\n",
              "      <th></th>\n",
              "      <th>feature_0</th>\n",
              "      <th>feature_1</th>\n",
              "      <th>feature_2</th>\n",
              "      <th>feature_3</th>\n",
              "      <th>feature_4</th>\n",
              "      <th>feature_5</th>\n",
              "      <th>feature_6</th>\n",
              "      <th>feature_7</th>\n",
              "      <th>feature_8</th>\n",
              "      <th>feature_9</th>\n",
              "      <th>feature_10</th>\n",
              "      <th>feature_11</th>\n",
              "      <th>feature_12</th>\n",
              "      <th>feature_13</th>\n",
              "      <th>feature_14</th>\n",
              "      <th>feature_15</th>\n",
              "      <th>feature_16</th>\n",
              "      <th>feature_17</th>\n",
              "      <th>feature_18</th>\n",
              "      <th>feature_19</th>\n",
              "      <th>feature_20</th>\n",
              "      <th>feature_21</th>\n",
              "      <th>feature_22</th>\n",
              "      <th>feature_23</th>\n",
              "      <th>feature_24</th>\n",
              "      <th>feature_25</th>\n",
              "      <th>feature_26</th>\n",
              "      <th>feature_27</th>\n",
              "      <th>feature_28</th>\n",
              "      <th>feature_29</th>\n",
              "      <th>feature_30</th>\n",
              "      <th>feature_31</th>\n",
              "      <th>feature_32</th>\n",
              "      <th>feature_33</th>\n",
              "      <th>feature_34</th>\n",
              "      <th>feature_35</th>\n",
              "      <th>feature_36</th>\n",
              "      <th>feature_37</th>\n",
              "      <th>feature_38</th>\n",
              "      <th>feature_39</th>\n",
              "      <th>feature_40</th>\n",
              "      <th>feature_41</th>\n",
              "      <th>feature_42</th>\n",
              "      <th>feature_43</th>\n",
              "      <th>feature_44</th>\n",
              "      <th>feature_45</th>\n",
              "      <th>feature_46</th>\n",
              "      <th>feature_47</th>\n",
              "      <th>feature_48</th>\n",
              "      <th>feature_49</th>\n",
              "      <th>feature_50</th>\n",
              "      <th>feature_51</th>\n",
              "      <th>feature_52</th>\n",
              "      <th>feature_53</th>\n",
              "      <th>feature_54</th>\n",
              "      <th>feature_55</th>\n",
              "      <th>feature_56</th>\n",
              "      <th>feature_57</th>\n",
              "      <th>feature_58</th>\n",
              "      <th>feature_59</th>\n",
              "      <th>feature_60</th>\n",
              "      <th>feature_61</th>\n",
              "      <th>feature_62</th>\n",
              "      <th>feature_63</th>\n",
              "      <th>feature_64</th>\n",
              "      <th>feature_65</th>\n",
              "      <th>feature_66</th>\n",
              "      <th>feature_67</th>\n",
              "      <th>feature_68</th>\n",
              "      <th>feature_69</th>\n",
              "      <th>feature_70</th>\n",
              "      <th>feature_71</th>\n",
              "      <th>feature_72</th>\n",
              "      <th>feature_73</th>\n",
              "      <th>feature_74</th>\n",
              "    </tr>\n",
              "  </thead>\n",
              "  <tbody>\n",
              "    <tr>\n",
              "      <th>153248</th>\n",
              "      <td>0</td>\n",
              "      <td>0</td>\n",
              "      <td>0</td>\n",
              "      <td>2</td>\n",
              "      <td>0</td>\n",
              "      <td>1</td>\n",
              "      <td>0</td>\n",
              "      <td>0</td>\n",
              "      <td>0</td>\n",
              "      <td>0</td>\n",
              "      <td>1</td>\n",
              "      <td>0</td>\n",
              "      <td>4</td>\n",
              "      <td>2</td>\n",
              "      <td>0</td>\n",
              "      <td>0</td>\n",
              "      <td>1</td>\n",
              "      <td>1</td>\n",
              "      <td>4</td>\n",
              "      <td>1</td>\n",
              "      <td>0</td>\n",
              "      <td>0</td>\n",
              "      <td>4</td>\n",
              "      <td>0</td>\n",
              "      <td>6</td>\n",
              "      <td>6</td>\n",
              "      <td>4</td>\n",
              "      <td>0</td>\n",
              "      <td>1</td>\n",
              "      <td>0</td>\n",
              "      <td>0</td>\n",
              "      <td>1</td>\n",
              "      <td>1</td>\n",
              "      <td>1</td>\n",
              "      <td>0</td>\n",
              "      <td>5</td>\n",
              "      <td>0</td>\n",
              "      <td>3</td>\n",
              "      <td>3</td>\n",
              "      <td>2</td>\n",
              "      <td>0</td>\n",
              "      <td>2</td>\n",
              "      <td>2</td>\n",
              "      <td>6</td>\n",
              "      <td>0</td>\n",
              "      <td>3</td>\n",
              "      <td>41</td>\n",
              "      <td>0</td>\n",
              "      <td>1</td>\n",
              "      <td>0</td>\n",
              "      <td>2</td>\n",
              "      <td>1</td>\n",
              "      <td>1</td>\n",
              "      <td>6</td>\n",
              "      <td>28</td>\n",
              "      <td>55</td>\n",
              "      <td>1</td>\n",
              "      <td>0</td>\n",
              "      <td>0</td>\n",
              "      <td>0</td>\n",
              "      <td>1</td>\n",
              "      <td>4</td>\n",
              "      <td>0</td>\n",
              "      <td>0</td>\n",
              "      <td>1</td>\n",
              "      <td>3</td>\n",
              "      <td>0</td>\n",
              "      <td>5</td>\n",
              "      <td>0</td>\n",
              "      <td>0</td>\n",
              "      <td>0</td>\n",
              "      <td>4</td>\n",
              "      <td>2</td>\n",
              "      <td>0</td>\n",
              "      <td>0</td>\n",
              "    </tr>\n",
              "    <tr>\n",
              "      <th>67802</th>\n",
              "      <td>3</td>\n",
              "      <td>0</td>\n",
              "      <td>1</td>\n",
              "      <td>2</td>\n",
              "      <td>0</td>\n",
              "      <td>0</td>\n",
              "      <td>0</td>\n",
              "      <td>0</td>\n",
              "      <td>0</td>\n",
              "      <td>1</td>\n",
              "      <td>0</td>\n",
              "      <td>3</td>\n",
              "      <td>1</td>\n",
              "      <td>1</td>\n",
              "      <td>1</td>\n",
              "      <td>1</td>\n",
              "      <td>0</td>\n",
              "      <td>0</td>\n",
              "      <td>0</td>\n",
              "      <td>0</td>\n",
              "      <td>0</td>\n",
              "      <td>0</td>\n",
              "      <td>0</td>\n",
              "      <td>1</td>\n",
              "      <td>0</td>\n",
              "      <td>1</td>\n",
              "      <td>1</td>\n",
              "      <td>0</td>\n",
              "      <td>9</td>\n",
              "      <td>0</td>\n",
              "      <td>0</td>\n",
              "      <td>0</td>\n",
              "      <td>0</td>\n",
              "      <td>5</td>\n",
              "      <td>0</td>\n",
              "      <td>0</td>\n",
              "      <td>0</td>\n",
              "      <td>2</td>\n",
              "      <td>0</td>\n",
              "      <td>0</td>\n",
              "      <td>0</td>\n",
              "      <td>0</td>\n",
              "      <td>0</td>\n",
              "      <td>5</td>\n",
              "      <td>0</td>\n",
              "      <td>0</td>\n",
              "      <td>0</td>\n",
              "      <td>0</td>\n",
              "      <td>0</td>\n",
              "      <td>0</td>\n",
              "      <td>0</td>\n",
              "      <td>0</td>\n",
              "      <td>0</td>\n",
              "      <td>3</td>\n",
              "      <td>2</td>\n",
              "      <td>7</td>\n",
              "      <td>0</td>\n",
              "      <td>0</td>\n",
              "      <td>0</td>\n",
              "      <td>1</td>\n",
              "      <td>2</td>\n",
              "      <td>0</td>\n",
              "      <td>0</td>\n",
              "      <td>0</td>\n",
              "      <td>0</td>\n",
              "      <td>3</td>\n",
              "      <td>0</td>\n",
              "      <td>0</td>\n",
              "      <td>2</td>\n",
              "      <td>4</td>\n",
              "      <td>0</td>\n",
              "      <td>0</td>\n",
              "      <td>1</td>\n",
              "      <td>0</td>\n",
              "      <td>0</td>\n",
              "    </tr>\n",
              "    <tr>\n",
              "      <th>148889</th>\n",
              "      <td>0</td>\n",
              "      <td>0</td>\n",
              "      <td>0</td>\n",
              "      <td>4</td>\n",
              "      <td>1</td>\n",
              "      <td>0</td>\n",
              "      <td>6</td>\n",
              "      <td>0</td>\n",
              "      <td>38</td>\n",
              "      <td>4</td>\n",
              "      <td>0</td>\n",
              "      <td>0</td>\n",
              "      <td>17</td>\n",
              "      <td>1</td>\n",
              "      <td>7</td>\n",
              "      <td>0</td>\n",
              "      <td>1</td>\n",
              "      <td>4</td>\n",
              "      <td>1</td>\n",
              "      <td>8</td>\n",
              "      <td>2</td>\n",
              "      <td>0</td>\n",
              "      <td>0</td>\n",
              "      <td>0</td>\n",
              "      <td>0</td>\n",
              "      <td>4</td>\n",
              "      <td>1</td>\n",
              "      <td>0</td>\n",
              "      <td>0</td>\n",
              "      <td>5</td>\n",
              "      <td>0</td>\n",
              "      <td>1</td>\n",
              "      <td>2</td>\n",
              "      <td>1</td>\n",
              "      <td>2</td>\n",
              "      <td>1</td>\n",
              "      <td>1</td>\n",
              "      <td>4</td>\n",
              "      <td>0</td>\n",
              "      <td>0</td>\n",
              "      <td>1</td>\n",
              "      <td>0</td>\n",
              "      <td>5</td>\n",
              "      <td>0</td>\n",
              "      <td>7</td>\n",
              "      <td>2</td>\n",
              "      <td>0</td>\n",
              "      <td>0</td>\n",
              "      <td>0</td>\n",
              "      <td>0</td>\n",
              "      <td>0</td>\n",
              "      <td>33</td>\n",
              "      <td>1</td>\n",
              "      <td>2</td>\n",
              "      <td>16</td>\n",
              "      <td>1</td>\n",
              "      <td>4</td>\n",
              "      <td>1</td>\n",
              "      <td>0</td>\n",
              "      <td>3</td>\n",
              "      <td>0</td>\n",
              "      <td>2</td>\n",
              "      <td>1</td>\n",
              "      <td>0</td>\n",
              "      <td>3</td>\n",
              "      <td>0</td>\n",
              "      <td>0</td>\n",
              "      <td>0</td>\n",
              "      <td>0</td>\n",
              "      <td>0</td>\n",
              "      <td>0</td>\n",
              "      <td>0</td>\n",
              "      <td>7</td>\n",
              "      <td>6</td>\n",
              "      <td>6</td>\n",
              "    </tr>\n",
              "    <tr>\n",
              "      <th>103093</th>\n",
              "      <td>0</td>\n",
              "      <td>3</td>\n",
              "      <td>6</td>\n",
              "      <td>1</td>\n",
              "      <td>1</td>\n",
              "      <td>0</td>\n",
              "      <td>0</td>\n",
              "      <td>0</td>\n",
              "      <td>0</td>\n",
              "      <td>0</td>\n",
              "      <td>0</td>\n",
              "      <td>0</td>\n",
              "      <td>0</td>\n",
              "      <td>0</td>\n",
              "      <td>1</td>\n",
              "      <td>0</td>\n",
              "      <td>1</td>\n",
              "      <td>0</td>\n",
              "      <td>1</td>\n",
              "      <td>2</td>\n",
              "      <td>1</td>\n",
              "      <td>0</td>\n",
              "      <td>0</td>\n",
              "      <td>0</td>\n",
              "      <td>0</td>\n",
              "      <td>0</td>\n",
              "      <td>0</td>\n",
              "      <td>0</td>\n",
              "      <td>0</td>\n",
              "      <td>0</td>\n",
              "      <td>0</td>\n",
              "      <td>6</td>\n",
              "      <td>0</td>\n",
              "      <td>0</td>\n",
              "      <td>0</td>\n",
              "      <td>0</td>\n",
              "      <td>1</td>\n",
              "      <td>0</td>\n",
              "      <td>12</td>\n",
              "      <td>1</td>\n",
              "      <td>2</td>\n",
              "      <td>0</td>\n",
              "      <td>0</td>\n",
              "      <td>0</td>\n",
              "      <td>7</td>\n",
              "      <td>0</td>\n",
              "      <td>0</td>\n",
              "      <td>1</td>\n",
              "      <td>1</td>\n",
              "      <td>0</td>\n",
              "      <td>0</td>\n",
              "      <td>1</td>\n",
              "      <td>0</td>\n",
              "      <td>1</td>\n",
              "      <td>1</td>\n",
              "      <td>0</td>\n",
              "      <td>2</td>\n",
              "      <td>0</td>\n",
              "      <td>1</td>\n",
              "      <td>0</td>\n",
              "      <td>2</td>\n",
              "      <td>4</td>\n",
              "      <td>0</td>\n",
              "      <td>0</td>\n",
              "      <td>0</td>\n",
              "      <td>2</td>\n",
              "      <td>0</td>\n",
              "      <td>0</td>\n",
              "      <td>0</td>\n",
              "      <td>1</td>\n",
              "      <td>0</td>\n",
              "      <td>0</td>\n",
              "      <td>0</td>\n",
              "      <td>0</td>\n",
              "      <td>0</td>\n",
              "    </tr>\n",
              "    <tr>\n",
              "      <th>104681</th>\n",
              "      <td>0</td>\n",
              "      <td>0</td>\n",
              "      <td>0</td>\n",
              "      <td>0</td>\n",
              "      <td>1</td>\n",
              "      <td>0</td>\n",
              "      <td>3</td>\n",
              "      <td>0</td>\n",
              "      <td>0</td>\n",
              "      <td>0</td>\n",
              "      <td>0</td>\n",
              "      <td>0</td>\n",
              "      <td>3</td>\n",
              "      <td>0</td>\n",
              "      <td>3</td>\n",
              "      <td>0</td>\n",
              "      <td>0</td>\n",
              "      <td>0</td>\n",
              "      <td>0</td>\n",
              "      <td>3</td>\n",
              "      <td>0</td>\n",
              "      <td>0</td>\n",
              "      <td>0</td>\n",
              "      <td>0</td>\n",
              "      <td>0</td>\n",
              "      <td>0</td>\n",
              "      <td>1</td>\n",
              "      <td>0</td>\n",
              "      <td>0</td>\n",
              "      <td>0</td>\n",
              "      <td>1</td>\n",
              "      <td>0</td>\n",
              "      <td>0</td>\n",
              "      <td>0</td>\n",
              "      <td>0</td>\n",
              "      <td>0</td>\n",
              "      <td>4</td>\n",
              "      <td>0</td>\n",
              "      <td>6</td>\n",
              "      <td>1</td>\n",
              "      <td>0</td>\n",
              "      <td>0</td>\n",
              "      <td>4</td>\n",
              "      <td>7</td>\n",
              "      <td>0</td>\n",
              "      <td>0</td>\n",
              "      <td>0</td>\n",
              "      <td>1</td>\n",
              "      <td>0</td>\n",
              "      <td>0</td>\n",
              "      <td>0</td>\n",
              "      <td>1</td>\n",
              "      <td>0</td>\n",
              "      <td>0</td>\n",
              "      <td>8</td>\n",
              "      <td>0</td>\n",
              "      <td>4</td>\n",
              "      <td>1</td>\n",
              "      <td>0</td>\n",
              "      <td>2</td>\n",
              "      <td>0</td>\n",
              "      <td>0</td>\n",
              "      <td>0</td>\n",
              "      <td>0</td>\n",
              "      <td>1</td>\n",
              "      <td>0</td>\n",
              "      <td>0</td>\n",
              "      <td>0</td>\n",
              "      <td>1</td>\n",
              "      <td>1</td>\n",
              "      <td>1</td>\n",
              "      <td>1</td>\n",
              "      <td>0</td>\n",
              "      <td>0</td>\n",
              "      <td>2</td>\n",
              "    </tr>\n",
              "    <tr>\n",
              "      <th>...</th>\n",
              "      <td>...</td>\n",
              "      <td>...</td>\n",
              "      <td>...</td>\n",
              "      <td>...</td>\n",
              "      <td>...</td>\n",
              "      <td>...</td>\n",
              "      <td>...</td>\n",
              "      <td>...</td>\n",
              "      <td>...</td>\n",
              "      <td>...</td>\n",
              "      <td>...</td>\n",
              "      <td>...</td>\n",
              "      <td>...</td>\n",
              "      <td>...</td>\n",
              "      <td>...</td>\n",
              "      <td>...</td>\n",
              "      <td>...</td>\n",
              "      <td>...</td>\n",
              "      <td>...</td>\n",
              "      <td>...</td>\n",
              "      <td>...</td>\n",
              "      <td>...</td>\n",
              "      <td>...</td>\n",
              "      <td>...</td>\n",
              "      <td>...</td>\n",
              "      <td>...</td>\n",
              "      <td>...</td>\n",
              "      <td>...</td>\n",
              "      <td>...</td>\n",
              "      <td>...</td>\n",
              "      <td>...</td>\n",
              "      <td>...</td>\n",
              "      <td>...</td>\n",
              "      <td>...</td>\n",
              "      <td>...</td>\n",
              "      <td>...</td>\n",
              "      <td>...</td>\n",
              "      <td>...</td>\n",
              "      <td>...</td>\n",
              "      <td>...</td>\n",
              "      <td>...</td>\n",
              "      <td>...</td>\n",
              "      <td>...</td>\n",
              "      <td>...</td>\n",
              "      <td>...</td>\n",
              "      <td>...</td>\n",
              "      <td>...</td>\n",
              "      <td>...</td>\n",
              "      <td>...</td>\n",
              "      <td>...</td>\n",
              "      <td>...</td>\n",
              "      <td>...</td>\n",
              "      <td>...</td>\n",
              "      <td>...</td>\n",
              "      <td>...</td>\n",
              "      <td>...</td>\n",
              "      <td>...</td>\n",
              "      <td>...</td>\n",
              "      <td>...</td>\n",
              "      <td>...</td>\n",
              "      <td>...</td>\n",
              "      <td>...</td>\n",
              "      <td>...</td>\n",
              "      <td>...</td>\n",
              "      <td>...</td>\n",
              "      <td>...</td>\n",
              "      <td>...</td>\n",
              "      <td>...</td>\n",
              "      <td>...</td>\n",
              "      <td>...</td>\n",
              "      <td>...</td>\n",
              "      <td>...</td>\n",
              "      <td>...</td>\n",
              "      <td>...</td>\n",
              "      <td>...</td>\n",
              "    </tr>\n",
              "    <tr>\n",
              "      <th>119879</th>\n",
              "      <td>2</td>\n",
              "      <td>0</td>\n",
              "      <td>0</td>\n",
              "      <td>0</td>\n",
              "      <td>0</td>\n",
              "      <td>0</td>\n",
              "      <td>0</td>\n",
              "      <td>0</td>\n",
              "      <td>1</td>\n",
              "      <td>0</td>\n",
              "      <td>1</td>\n",
              "      <td>0</td>\n",
              "      <td>1</td>\n",
              "      <td>1</td>\n",
              "      <td>0</td>\n",
              "      <td>0</td>\n",
              "      <td>0</td>\n",
              "      <td>0</td>\n",
              "      <td>0</td>\n",
              "      <td>2</td>\n",
              "      <td>1</td>\n",
              "      <td>0</td>\n",
              "      <td>0</td>\n",
              "      <td>0</td>\n",
              "      <td>0</td>\n",
              "      <td>1</td>\n",
              "      <td>1</td>\n",
              "      <td>0</td>\n",
              "      <td>0</td>\n",
              "      <td>1</td>\n",
              "      <td>0</td>\n",
              "      <td>0</td>\n",
              "      <td>0</td>\n",
              "      <td>0</td>\n",
              "      <td>1</td>\n",
              "      <td>0</td>\n",
              "      <td>0</td>\n",
              "      <td>0</td>\n",
              "      <td>0</td>\n",
              "      <td>0</td>\n",
              "      <td>1</td>\n",
              "      <td>0</td>\n",
              "      <td>0</td>\n",
              "      <td>0</td>\n",
              "      <td>0</td>\n",
              "      <td>0</td>\n",
              "      <td>10</td>\n",
              "      <td>1</td>\n",
              "      <td>0</td>\n",
              "      <td>0</td>\n",
              "      <td>3</td>\n",
              "      <td>0</td>\n",
              "      <td>0</td>\n",
              "      <td>0</td>\n",
              "      <td>3</td>\n",
              "      <td>0</td>\n",
              "      <td>1</td>\n",
              "      <td>0</td>\n",
              "      <td>0</td>\n",
              "      <td>0</td>\n",
              "      <td>2</td>\n",
              "      <td>1</td>\n",
              "      <td>1</td>\n",
              "      <td>0</td>\n",
              "      <td>0</td>\n",
              "      <td>0</td>\n",
              "      <td>0</td>\n",
              "      <td>0</td>\n",
              "      <td>0</td>\n",
              "      <td>2</td>\n",
              "      <td>1</td>\n",
              "      <td>0</td>\n",
              "      <td>3</td>\n",
              "      <td>2</td>\n",
              "      <td>0</td>\n",
              "    </tr>\n",
              "    <tr>\n",
              "      <th>103694</th>\n",
              "      <td>3</td>\n",
              "      <td>3</td>\n",
              "      <td>52</td>\n",
              "      <td>8</td>\n",
              "      <td>1</td>\n",
              "      <td>4</td>\n",
              "      <td>2</td>\n",
              "      <td>1</td>\n",
              "      <td>6</td>\n",
              "      <td>0</td>\n",
              "      <td>1</td>\n",
              "      <td>0</td>\n",
              "      <td>1</td>\n",
              "      <td>0</td>\n",
              "      <td>4</td>\n",
              "      <td>1</td>\n",
              "      <td>8</td>\n",
              "      <td>0</td>\n",
              "      <td>1</td>\n",
              "      <td>11</td>\n",
              "      <td>0</td>\n",
              "      <td>1</td>\n",
              "      <td>4</td>\n",
              "      <td>0</td>\n",
              "      <td>66</td>\n",
              "      <td>4</td>\n",
              "      <td>0</td>\n",
              "      <td>0</td>\n",
              "      <td>0</td>\n",
              "      <td>3</td>\n",
              "      <td>1</td>\n",
              "      <td>4</td>\n",
              "      <td>0</td>\n",
              "      <td>2</td>\n",
              "      <td>0</td>\n",
              "      <td>19</td>\n",
              "      <td>4</td>\n",
              "      <td>1</td>\n",
              "      <td>0</td>\n",
              "      <td>8</td>\n",
              "      <td>1</td>\n",
              "      <td>0</td>\n",
              "      <td>0</td>\n",
              "      <td>1</td>\n",
              "      <td>0</td>\n",
              "      <td>1</td>\n",
              "      <td>1</td>\n",
              "      <td>0</td>\n",
              "      <td>2</td>\n",
              "      <td>0</td>\n",
              "      <td>2</td>\n",
              "      <td>4</td>\n",
              "      <td>1</td>\n",
              "      <td>2</td>\n",
              "      <td>2</td>\n",
              "      <td>16</td>\n",
              "      <td>3</td>\n",
              "      <td>4</td>\n",
              "      <td>17</td>\n",
              "      <td>4</td>\n",
              "      <td>0</td>\n",
              "      <td>0</td>\n",
              "      <td>0</td>\n",
              "      <td>0</td>\n",
              "      <td>0</td>\n",
              "      <td>1</td>\n",
              "      <td>4</td>\n",
              "      <td>5</td>\n",
              "      <td>0</td>\n",
              "      <td>0</td>\n",
              "      <td>24</td>\n",
              "      <td>0</td>\n",
              "      <td>1</td>\n",
              "      <td>0</td>\n",
              "      <td>2</td>\n",
              "    </tr>\n",
              "    <tr>\n",
              "      <th>131932</th>\n",
              "      <td>0</td>\n",
              "      <td>1</td>\n",
              "      <td>2</td>\n",
              "      <td>9</td>\n",
              "      <td>0</td>\n",
              "      <td>1</td>\n",
              "      <td>0</td>\n",
              "      <td>1</td>\n",
              "      <td>5</td>\n",
              "      <td>0</td>\n",
              "      <td>0</td>\n",
              "      <td>0</td>\n",
              "      <td>2</td>\n",
              "      <td>0</td>\n",
              "      <td>2</td>\n",
              "      <td>0</td>\n",
              "      <td>0</td>\n",
              "      <td>0</td>\n",
              "      <td>2</td>\n",
              "      <td>0</td>\n",
              "      <td>1</td>\n",
              "      <td>0</td>\n",
              "      <td>0</td>\n",
              "      <td>0</td>\n",
              "      <td>0</td>\n",
              "      <td>0</td>\n",
              "      <td>0</td>\n",
              "      <td>0</td>\n",
              "      <td>0</td>\n",
              "      <td>1</td>\n",
              "      <td>0</td>\n",
              "      <td>7</td>\n",
              "      <td>0</td>\n",
              "      <td>1</td>\n",
              "      <td>0</td>\n",
              "      <td>0</td>\n",
              "      <td>0</td>\n",
              "      <td>0</td>\n",
              "      <td>1</td>\n",
              "      <td>0</td>\n",
              "      <td>0</td>\n",
              "      <td>4</td>\n",
              "      <td>0</td>\n",
              "      <td>4</td>\n",
              "      <td>4</td>\n",
              "      <td>0</td>\n",
              "      <td>1</td>\n",
              "      <td>1</td>\n",
              "      <td>1</td>\n",
              "      <td>0</td>\n",
              "      <td>1</td>\n",
              "      <td>7</td>\n",
              "      <td>1</td>\n",
              "      <td>0</td>\n",
              "      <td>6</td>\n",
              "      <td>1</td>\n",
              "      <td>2</td>\n",
              "      <td>0</td>\n",
              "      <td>0</td>\n",
              "      <td>0</td>\n",
              "      <td>4</td>\n",
              "      <td>2</td>\n",
              "      <td>0</td>\n",
              "      <td>0</td>\n",
              "      <td>0</td>\n",
              "      <td>13</td>\n",
              "      <td>1</td>\n",
              "      <td>46</td>\n",
              "      <td>1</td>\n",
              "      <td>0</td>\n",
              "      <td>0</td>\n",
              "      <td>0</td>\n",
              "      <td>4</td>\n",
              "      <td>6</td>\n",
              "      <td>0</td>\n",
              "    </tr>\n",
              "    <tr>\n",
              "      <th>146867</th>\n",
              "      <td>1</td>\n",
              "      <td>0</td>\n",
              "      <td>2</td>\n",
              "      <td>1</td>\n",
              "      <td>0</td>\n",
              "      <td>2</td>\n",
              "      <td>0</td>\n",
              "      <td>1</td>\n",
              "      <td>3</td>\n",
              "      <td>0</td>\n",
              "      <td>0</td>\n",
              "      <td>0</td>\n",
              "      <td>1</td>\n",
              "      <td>1</td>\n",
              "      <td>3</td>\n",
              "      <td>0</td>\n",
              "      <td>0</td>\n",
              "      <td>0</td>\n",
              "      <td>1</td>\n",
              "      <td>3</td>\n",
              "      <td>1</td>\n",
              "      <td>0</td>\n",
              "      <td>0</td>\n",
              "      <td>0</td>\n",
              "      <td>0</td>\n",
              "      <td>0</td>\n",
              "      <td>2</td>\n",
              "      <td>0</td>\n",
              "      <td>1</td>\n",
              "      <td>0</td>\n",
              "      <td>1</td>\n",
              "      <td>4</td>\n",
              "      <td>0</td>\n",
              "      <td>1</td>\n",
              "      <td>0</td>\n",
              "      <td>0</td>\n",
              "      <td>0</td>\n",
              "      <td>3</td>\n",
              "      <td>0</td>\n",
              "      <td>0</td>\n",
              "      <td>3</td>\n",
              "      <td>0</td>\n",
              "      <td>0</td>\n",
              "      <td>10</td>\n",
              "      <td>2</td>\n",
              "      <td>0</td>\n",
              "      <td>2</td>\n",
              "      <td>0</td>\n",
              "      <td>0</td>\n",
              "      <td>0</td>\n",
              "      <td>2</td>\n",
              "      <td>0</td>\n",
              "      <td>0</td>\n",
              "      <td>5</td>\n",
              "      <td>2</td>\n",
              "      <td>0</td>\n",
              "      <td>2</td>\n",
              "      <td>0</td>\n",
              "      <td>1</td>\n",
              "      <td>0</td>\n",
              "      <td>0</td>\n",
              "      <td>0</td>\n",
              "      <td>2</td>\n",
              "      <td>2</td>\n",
              "      <td>0</td>\n",
              "      <td>1</td>\n",
              "      <td>0</td>\n",
              "      <td>0</td>\n",
              "      <td>0</td>\n",
              "      <td>0</td>\n",
              "      <td>2</td>\n",
              "      <td>0</td>\n",
              "      <td>0</td>\n",
              "      <td>1</td>\n",
              "      <td>0</td>\n",
              "    </tr>\n",
              "    <tr>\n",
              "      <th>121958</th>\n",
              "      <td>0</td>\n",
              "      <td>2</td>\n",
              "      <td>1</td>\n",
              "      <td>6</td>\n",
              "      <td>5</td>\n",
              "      <td>1</td>\n",
              "      <td>20</td>\n",
              "      <td>1</td>\n",
              "      <td>0</td>\n",
              "      <td>4</td>\n",
              "      <td>10</td>\n",
              "      <td>4</td>\n",
              "      <td>1</td>\n",
              "      <td>11</td>\n",
              "      <td>11</td>\n",
              "      <td>2</td>\n",
              "      <td>2</td>\n",
              "      <td>0</td>\n",
              "      <td>0</td>\n",
              "      <td>16</td>\n",
              "      <td>1</td>\n",
              "      <td>2</td>\n",
              "      <td>0</td>\n",
              "      <td>1</td>\n",
              "      <td>1</td>\n",
              "      <td>0</td>\n",
              "      <td>2</td>\n",
              "      <td>0</td>\n",
              "      <td>47</td>\n",
              "      <td>44</td>\n",
              "      <td>0</td>\n",
              "      <td>4</td>\n",
              "      <td>34</td>\n",
              "      <td>15</td>\n",
              "      <td>1</td>\n",
              "      <td>1</td>\n",
              "      <td>3</td>\n",
              "      <td>2</td>\n",
              "      <td>2</td>\n",
              "      <td>35</td>\n",
              "      <td>5</td>\n",
              "      <td>2</td>\n",
              "      <td>2</td>\n",
              "      <td>28</td>\n",
              "      <td>1</td>\n",
              "      <td>1</td>\n",
              "      <td>8</td>\n",
              "      <td>0</td>\n",
              "      <td>1</td>\n",
              "      <td>0</td>\n",
              "      <td>54</td>\n",
              "      <td>2</td>\n",
              "      <td>0</td>\n",
              "      <td>11</td>\n",
              "      <td>3</td>\n",
              "      <td>57</td>\n",
              "      <td>46</td>\n",
              "      <td>3</td>\n",
              "      <td>2</td>\n",
              "      <td>52</td>\n",
              "      <td>0</td>\n",
              "      <td>1</td>\n",
              "      <td>41</td>\n",
              "      <td>7</td>\n",
              "      <td>1</td>\n",
              "      <td>14</td>\n",
              "      <td>9</td>\n",
              "      <td>7</td>\n",
              "      <td>13</td>\n",
              "      <td>3</td>\n",
              "      <td>7</td>\n",
              "      <td>0</td>\n",
              "      <td>0</td>\n",
              "      <td>50</td>\n",
              "      <td>39</td>\n",
              "    </tr>\n",
              "  </tbody>\n",
              "</table>\n",
              "<p>160000 rows × 75 columns</p>\n",
              "</div>"
            ],
            "text/plain": [
              "        feature_0  feature_1  feature_2  ...  feature_72  feature_73  feature_74\n",
              "153248          0          0          0  ...           2           0           0\n",
              "67802           3          0          1  ...           1           0           0\n",
              "148889          0          0          0  ...           7           6           6\n",
              "103093          0          3          6  ...           0           0           0\n",
              "104681          0          0          0  ...           0           0           2\n",
              "...           ...        ...        ...  ...         ...         ...         ...\n",
              "119879          2          0          0  ...           3           2           0\n",
              "103694          3          3         52  ...           1           0           2\n",
              "131932          0          1          2  ...           4           6           0\n",
              "146867          1          0          2  ...           0           1           0\n",
              "121958          0          2          1  ...           0          50          39\n",
              "\n",
              "[160000 rows x 75 columns]"
            ]
          },
          "metadata": {
            "tags": []
          },
          "execution_count": 94
        }
      ]
    },
    {
      "cell_type": "code",
      "metadata": {
        "colab": {
          "base_uri": "https://localhost:8080/"
        },
        "id": "_r62r0TAgoC_",
        "outputId": "9f5e8491-6bd2-46e1-afe6-05f40e0de86b"
      },
      "source": [
        "# Set random seed\n",
        "tf.random.set_seed(42)\n",
        "\n",
        "# Create the model\n",
        "model_5 = tf.keras.Sequential([\n",
        "  tf.keras.layers.Dense(32, activation=\"relu\"),\n",
        "  tf.keras.layers.Dropout(.1),\n",
        "  tf.keras.layers.Dense(64, activation=\"relu\"),\n",
        "  tf.keras.layers.Dense(64, activation=\"relu\"),\n",
        "  tf.keras.layers.Dropout(.2),\n",
        "  tf.keras.layers.Dense(64, activation=\"relu\"),\n",
        "  tf.keras.layers.Dense(64, activation=\"relu\"),\n",
        "  tf.keras.layers.Dropout(.4),\n",
        "  tf.keras.layers.Dense(64, activation=\"relu\"),\n",
        "  tf.keras.layers.Dense(64, activation=\"relu\"),\n",
        "   tf.keras.layers.Dropout(.4),\n",
        "  tf.keras.layers.Dense(32, activation=\"relu\"),\n",
        "  tf.keras.layers.Dropout(.1),\n",
        "  tf.keras.layers.Dense(9, activation=\"softmax\") # output shape is 10, activation is softmax\n",
        "])\n",
        "\n",
        "# Compile the model\n",
        "model_5.compile(loss=tf.keras.losses.SparseCategoricalCrossentropy(), # different loss function for multiclass classifcation\n",
        "                 optimizer=tf.keras.optimizers.Adam(learning_rate=0.001),\n",
        "                 metrics=[\"accuracy\"])\n",
        "\n",
        "\n",
        "# Fit the model\n",
        "norm_history_5 = model_5.fit(X_train,\n",
        "                                train_labels,\n",
        "                                epochs=50,\n",
        "                                validation_data=(X_test, test_labels),) # see how the model performs on the test set during training"
      ],
      "execution_count": null,
      "outputs": [
        {
          "output_type": "stream",
          "text": [
            "Epoch 1/50\n",
            "5000/5000 [==============================] - 14s 3ms/step - loss: 1.8482 - accuracy: 0.3135 - val_loss: 1.7978 - val_accuracy: 0.3380\n",
            "Epoch 2/50\n",
            "5000/5000 [==============================] - 14s 3ms/step - loss: 1.8052 - accuracy: 0.3381 - val_loss: 1.7902 - val_accuracy: 0.3458\n",
            "Epoch 3/50\n",
            "5000/5000 [==============================] - 14s 3ms/step - loss: 1.7973 - accuracy: 0.3411 - val_loss: 1.7844 - val_accuracy: 0.3528\n",
            "Epoch 4/50\n",
            "5000/5000 [==============================] - 15s 3ms/step - loss: 1.7935 - accuracy: 0.3416 - val_loss: 1.7807 - val_accuracy: 0.3509\n",
            "Epoch 5/50\n",
            "5000/5000 [==============================] - 14s 3ms/step - loss: 1.7894 - accuracy: 0.3457 - val_loss: 1.7865 - val_accuracy: 0.3504\n",
            "Epoch 6/50\n",
            "5000/5000 [==============================] - 14s 3ms/step - loss: 1.7869 - accuracy: 0.3463 - val_loss: 1.7808 - val_accuracy: 0.3510\n",
            "Epoch 7/50\n",
            "5000/5000 [==============================] - 14s 3ms/step - loss: 1.7860 - accuracy: 0.3459 - val_loss: 1.7816 - val_accuracy: 0.3529\n",
            "Epoch 8/50\n",
            "5000/5000 [==============================] - 15s 3ms/step - loss: 1.7838 - accuracy: 0.3466 - val_loss: 1.7832 - val_accuracy: 0.3539\n",
            "Epoch 9/50\n",
            "5000/5000 [==============================] - 15s 3ms/step - loss: 1.7823 - accuracy: 0.3480 - val_loss: 1.7838 - val_accuracy: 0.3456\n",
            "Epoch 10/50\n",
            "5000/5000 [==============================] - 14s 3ms/step - loss: 1.7813 - accuracy: 0.3471 - val_loss: 1.7812 - val_accuracy: 0.3517\n",
            "Epoch 11/50\n",
            "5000/5000 [==============================] - 14s 3ms/step - loss: 1.7803 - accuracy: 0.3475 - val_loss: 1.7781 - val_accuracy: 0.3559\n",
            "Epoch 12/50\n",
            "5000/5000 [==============================] - 15s 3ms/step - loss: 1.7791 - accuracy: 0.3484 - val_loss: 1.7764 - val_accuracy: 0.3545\n",
            "Epoch 13/50\n",
            "5000/5000 [==============================] - 14s 3ms/step - loss: 1.7786 - accuracy: 0.3481 - val_loss: 1.7804 - val_accuracy: 0.3525\n",
            "Epoch 14/50\n",
            "5000/5000 [==============================] - 14s 3ms/step - loss: 1.7786 - accuracy: 0.3470 - val_loss: 1.7774 - val_accuracy: 0.3519\n",
            "Epoch 15/50\n",
            "5000/5000 [==============================] - 15s 3ms/step - loss: 1.7785 - accuracy: 0.3496 - val_loss: 1.7773 - val_accuracy: 0.3548\n",
            "Epoch 16/50\n",
            "5000/5000 [==============================] - 14s 3ms/step - loss: 1.7782 - accuracy: 0.3484 - val_loss: 1.7758 - val_accuracy: 0.3536\n",
            "Epoch 17/50\n",
            "5000/5000 [==============================] - 13s 3ms/step - loss: 1.7773 - accuracy: 0.3488 - val_loss: 1.7785 - val_accuracy: 0.3541\n",
            "Epoch 18/50\n",
            "5000/5000 [==============================] - 15s 3ms/step - loss: 1.7781 - accuracy: 0.3494 - val_loss: 1.7787 - val_accuracy: 0.3540\n",
            "Epoch 19/50\n",
            "5000/5000 [==============================] - 15s 3ms/step - loss: 1.7778 - accuracy: 0.3485 - val_loss: 1.7790 - val_accuracy: 0.3501\n",
            "Epoch 20/50\n",
            "5000/5000 [==============================] - 15s 3ms/step - loss: 1.7766 - accuracy: 0.3488 - val_loss: 1.7790 - val_accuracy: 0.3524\n",
            "Epoch 21/50\n",
            "5000/5000 [==============================] - 14s 3ms/step - loss: 1.7764 - accuracy: 0.3504 - val_loss: 1.7776 - val_accuracy: 0.3553\n",
            "Epoch 22/50\n",
            "5000/5000 [==============================] - 15s 3ms/step - loss: 1.7776 - accuracy: 0.3492 - val_loss: 1.7768 - val_accuracy: 0.3506\n",
            "Epoch 23/50\n",
            "5000/5000 [==============================] - 13s 3ms/step - loss: 1.7761 - accuracy: 0.3498 - val_loss: 1.7784 - val_accuracy: 0.3532\n",
            "Epoch 24/50\n",
            "5000/5000 [==============================] - 13s 3ms/step - loss: 1.7765 - accuracy: 0.3493 - val_loss: 1.7785 - val_accuracy: 0.3523\n",
            "Epoch 25/50\n",
            "5000/5000 [==============================] - 14s 3ms/step - loss: 1.7766 - accuracy: 0.3503 - val_loss: 1.7784 - val_accuracy: 0.3524\n",
            "Epoch 26/50\n",
            "5000/5000 [==============================] - 13s 3ms/step - loss: 1.7772 - accuracy: 0.3492 - val_loss: 1.7787 - val_accuracy: 0.3503\n",
            "Epoch 27/50\n",
            "5000/5000 [==============================] - 13s 3ms/step - loss: 1.7771 - accuracy: 0.3498 - val_loss: 1.7785 - val_accuracy: 0.3530\n",
            "Epoch 28/50\n",
            "5000/5000 [==============================] - 13s 3ms/step - loss: 1.7767 - accuracy: 0.3501 - val_loss: 1.7784 - val_accuracy: 0.3530\n",
            "Epoch 29/50\n",
            "5000/5000 [==============================] - 14s 3ms/step - loss: 1.7762 - accuracy: 0.3486 - val_loss: 1.7776 - val_accuracy: 0.3492\n",
            "Epoch 30/50\n",
            "5000/5000 [==============================] - 15s 3ms/step - loss: 1.7753 - accuracy: 0.3498 - val_loss: 1.7801 - val_accuracy: 0.3528\n",
            "Epoch 31/50\n",
            "5000/5000 [==============================] - 15s 3ms/step - loss: 1.7760 - accuracy: 0.3489 - val_loss: 1.7789 - val_accuracy: 0.3528\n",
            "Epoch 32/50\n",
            "5000/5000 [==============================] - 13s 3ms/step - loss: 1.7766 - accuracy: 0.3481 - val_loss: 1.7781 - val_accuracy: 0.3540\n",
            "Epoch 33/50\n",
            "5000/5000 [==============================] - 15s 3ms/step - loss: 1.7765 - accuracy: 0.3480 - val_loss: 1.7767 - val_accuracy: 0.3517\n",
            "Epoch 34/50\n",
            "5000/5000 [==============================] - 14s 3ms/step - loss: 1.7769 - accuracy: 0.3494 - val_loss: 1.7783 - val_accuracy: 0.3535\n",
            "Epoch 35/50\n",
            "5000/5000 [==============================] - 14s 3ms/step - loss: 1.7770 - accuracy: 0.3485 - val_loss: 1.7745 - val_accuracy: 0.3541\n",
            "Epoch 36/50\n",
            "5000/5000 [==============================] - 14s 3ms/step - loss: 1.7763 - accuracy: 0.3494 - val_loss: 1.7785 - val_accuracy: 0.3534\n",
            "Epoch 37/50\n",
            "5000/5000 [==============================] - 14s 3ms/step - loss: 1.7761 - accuracy: 0.3505 - val_loss: 1.7803 - val_accuracy: 0.3559\n",
            "Epoch 38/50\n",
            "5000/5000 [==============================] - 13s 3ms/step - loss: 1.7774 - accuracy: 0.3493 - val_loss: 1.7822 - val_accuracy: 0.3505\n",
            "Epoch 39/50\n",
            "5000/5000 [==============================] - 15s 3ms/step - loss: 1.7781 - accuracy: 0.3498 - val_loss: 1.7828 - val_accuracy: 0.3523\n",
            "Epoch 40/50\n",
            "5000/5000 [==============================] - 15s 3ms/step - loss: 1.7775 - accuracy: 0.3488 - val_loss: 1.7795 - val_accuracy: 0.3539\n",
            "Epoch 41/50\n",
            "5000/5000 [==============================] - 14s 3ms/step - loss: 1.7777 - accuracy: 0.3486 - val_loss: 1.7793 - val_accuracy: 0.3521\n",
            "Epoch 42/50\n",
            "5000/5000 [==============================] - 13s 3ms/step - loss: 1.7766 - accuracy: 0.3487 - val_loss: 1.7780 - val_accuracy: 0.3539\n",
            "Epoch 43/50\n",
            "5000/5000 [==============================] - 13s 3ms/step - loss: 1.7765 - accuracy: 0.3484 - val_loss: 1.7776 - val_accuracy: 0.3541\n",
            "Epoch 44/50\n",
            "5000/5000 [==============================] - 15s 3ms/step - loss: 1.7795 - accuracy: 0.3484 - val_loss: 1.7848 - val_accuracy: 0.3503\n",
            "Epoch 45/50\n",
            "5000/5000 [==============================] - 13s 3ms/step - loss: 1.7772 - accuracy: 0.3484 - val_loss: 1.7788 - val_accuracy: 0.3519\n",
            "Epoch 46/50\n",
            "5000/5000 [==============================] - 14s 3ms/step - loss: 1.7782 - accuracy: 0.3476 - val_loss: 1.7825 - val_accuracy: 0.3475\n",
            "Epoch 47/50\n",
            "5000/5000 [==============================] - 15s 3ms/step - loss: 1.7773 - accuracy: 0.3491 - val_loss: 1.7782 - val_accuracy: 0.3514\n",
            "Epoch 48/50\n",
            "5000/5000 [==============================] - 14s 3ms/step - loss: 1.7769 - accuracy: 0.3493 - val_loss: 1.7820 - val_accuracy: 0.3498\n",
            "Epoch 49/50\n",
            "5000/5000 [==============================] - 15s 3ms/step - loss: 1.7790 - accuracy: 0.3471 - val_loss: 1.7796 - val_accuracy: 0.3513\n",
            "Epoch 50/50\n",
            "5000/5000 [==============================] - 16s 3ms/step - loss: 1.7785 - accuracy: 0.3484 - val_loss: 1.7798 - val_accuracy: 0.3515\n"
          ],
          "name": "stdout"
        }
      ]
    },
    {
      "cell_type": "code",
      "metadata": {
        "id": "NtBedpOVhSHv"
      },
      "source": [
        ""
      ],
      "execution_count": null,
      "outputs": []
    }
  ]
}